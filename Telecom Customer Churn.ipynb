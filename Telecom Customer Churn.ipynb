{
 "cells": [
  {
   "cell_type": "code",
   "execution_count": 2,
   "id": "fd376aa5-460d-48d6-833f-62ccb74fb6af",
   "metadata": {},
   "outputs": [],
   "source": [
    "import numpy as np\n",
    "import pandas as pd\n",
    "import matplotlib.pyplot as plt\n",
    "import matplotlib.cm as cm\n",
    "import seaborn as sns\n",
    "import plotly.express as px\n",
    "import plotly.graph_objects as go\n",
    "\n",
    "import warnings\n",
    "warnings.filterwarnings(\"ignore\")"
   ]
  },
  {
   "cell_type": "code",
   "execution_count": 5,
   "id": "2758b0f0-7090-4939-a19d-e2929f79d400",
   "metadata": {},
   "outputs": [],
   "source": [
    "df = pd.read_csv(\"WA_Fn-UseC_-Telco-Customer-Churn.csv\")"
   ]
  },
  {
   "cell_type": "code",
   "execution_count": 8,
   "id": "fd1d119b-390d-4ceb-8e33-f4c614368063",
   "metadata": {},
   "outputs": [
    {
     "data": {
      "text/html": [
       "<div>\n",
       "<style scoped>\n",
       "    .dataframe tbody tr th:only-of-type {\n",
       "        vertical-align: middle;\n",
       "    }\n",
       "\n",
       "    .dataframe tbody tr th {\n",
       "        vertical-align: top;\n",
       "    }\n",
       "\n",
       "    .dataframe thead th {\n",
       "        text-align: right;\n",
       "    }\n",
       "</style>\n",
       "<table border=\"1\" class=\"dataframe\">\n",
       "  <thead>\n",
       "    <tr style=\"text-align: right;\">\n",
       "      <th></th>\n",
       "      <th>customerID</th>\n",
       "      <th>gender</th>\n",
       "      <th>SeniorCitizen</th>\n",
       "      <th>Partner</th>\n",
       "      <th>Dependents</th>\n",
       "      <th>tenure</th>\n",
       "      <th>PhoneService</th>\n",
       "      <th>MultipleLines</th>\n",
       "      <th>InternetService</th>\n",
       "      <th>OnlineSecurity</th>\n",
       "      <th>...</th>\n",
       "      <th>DeviceProtection</th>\n",
       "      <th>TechSupport</th>\n",
       "      <th>StreamingTV</th>\n",
       "      <th>StreamingMovies</th>\n",
       "      <th>Contract</th>\n",
       "      <th>PaperlessBilling</th>\n",
       "      <th>PaymentMethod</th>\n",
       "      <th>MonthlyCharges</th>\n",
       "      <th>TotalCharges</th>\n",
       "      <th>Churn</th>\n",
       "    </tr>\n",
       "  </thead>\n",
       "  <tbody>\n",
       "    <tr>\n",
       "      <th>5133</th>\n",
       "      <td>6892-XPFPU</td>\n",
       "      <td>Male</td>\n",
       "      <td>1</td>\n",
       "      <td>Yes</td>\n",
       "      <td>No</td>\n",
       "      <td>24</td>\n",
       "      <td>Yes</td>\n",
       "      <td>Yes</td>\n",
       "      <td>Fiber optic</td>\n",
       "      <td>No</td>\n",
       "      <td>...</td>\n",
       "      <td>Yes</td>\n",
       "      <td>No</td>\n",
       "      <td>Yes</td>\n",
       "      <td>Yes</td>\n",
       "      <td>Month-to-month</td>\n",
       "      <td>Yes</td>\n",
       "      <td>Electronic check</td>\n",
       "      <td>104.25</td>\n",
       "      <td>2433.9</td>\n",
       "      <td>Yes</td>\n",
       "    </tr>\n",
       "    <tr>\n",
       "      <th>559</th>\n",
       "      <td>3716-UVSPD</td>\n",
       "      <td>Male</td>\n",
       "      <td>0</td>\n",
       "      <td>No</td>\n",
       "      <td>No</td>\n",
       "      <td>1</td>\n",
       "      <td>Yes</td>\n",
       "      <td>No</td>\n",
       "      <td>DSL</td>\n",
       "      <td>No</td>\n",
       "      <td>...</td>\n",
       "      <td>No</td>\n",
       "      <td>Yes</td>\n",
       "      <td>No</td>\n",
       "      <td>No</td>\n",
       "      <td>Month-to-month</td>\n",
       "      <td>Yes</td>\n",
       "      <td>Electronic check</td>\n",
       "      <td>49.30</td>\n",
       "      <td>49.3</td>\n",
       "      <td>No</td>\n",
       "    </tr>\n",
       "    <tr>\n",
       "      <th>4892</th>\n",
       "      <td>8875-AKBYH</td>\n",
       "      <td>Male</td>\n",
       "      <td>1</td>\n",
       "      <td>No</td>\n",
       "      <td>No</td>\n",
       "      <td>20</td>\n",
       "      <td>Yes</td>\n",
       "      <td>Yes</td>\n",
       "      <td>Fiber optic</td>\n",
       "      <td>No</td>\n",
       "      <td>...</td>\n",
       "      <td>No</td>\n",
       "      <td>No</td>\n",
       "      <td>Yes</td>\n",
       "      <td>No</td>\n",
       "      <td>Month-to-month</td>\n",
       "      <td>Yes</td>\n",
       "      <td>Electronic check</td>\n",
       "      <td>84.35</td>\n",
       "      <td>1745.2</td>\n",
       "      <td>No</td>\n",
       "    </tr>\n",
       "    <tr>\n",
       "      <th>5386</th>\n",
       "      <td>6143-JQKEA</td>\n",
       "      <td>Male</td>\n",
       "      <td>0</td>\n",
       "      <td>No</td>\n",
       "      <td>No</td>\n",
       "      <td>10</td>\n",
       "      <td>Yes</td>\n",
       "      <td>No</td>\n",
       "      <td>DSL</td>\n",
       "      <td>No</td>\n",
       "      <td>...</td>\n",
       "      <td>No</td>\n",
       "      <td>No</td>\n",
       "      <td>No</td>\n",
       "      <td>No</td>\n",
       "      <td>Month-to-month</td>\n",
       "      <td>Yes</td>\n",
       "      <td>Credit card (automatic)</td>\n",
       "      <td>45.80</td>\n",
       "      <td>436.2</td>\n",
       "      <td>No</td>\n",
       "    </tr>\n",
       "    <tr>\n",
       "      <th>5263</th>\n",
       "      <td>9591-YVTEB</td>\n",
       "      <td>Male</td>\n",
       "      <td>1</td>\n",
       "      <td>No</td>\n",
       "      <td>No</td>\n",
       "      <td>55</td>\n",
       "      <td>No</td>\n",
       "      <td>No phone service</td>\n",
       "      <td>DSL</td>\n",
       "      <td>Yes</td>\n",
       "      <td>...</td>\n",
       "      <td>No</td>\n",
       "      <td>No</td>\n",
       "      <td>Yes</td>\n",
       "      <td>No</td>\n",
       "      <td>Month-to-month</td>\n",
       "      <td>Yes</td>\n",
       "      <td>Electronic check</td>\n",
       "      <td>44.85</td>\n",
       "      <td>2479.05</td>\n",
       "      <td>No</td>\n",
       "    </tr>\n",
       "  </tbody>\n",
       "</table>\n",
       "<p>5 rows × 21 columns</p>\n",
       "</div>"
      ],
      "text/plain": [
       "      customerID gender  SeniorCitizen Partner Dependents  tenure  \\\n",
       "5133  6892-XPFPU   Male              1     Yes         No      24   \n",
       "559   3716-UVSPD   Male              0      No         No       1   \n",
       "4892  8875-AKBYH   Male              1      No         No      20   \n",
       "5386  6143-JQKEA   Male              0      No         No      10   \n",
       "5263  9591-YVTEB   Male              1      No         No      55   \n",
       "\n",
       "     PhoneService     MultipleLines InternetService OnlineSecurity  ...  \\\n",
       "5133          Yes               Yes     Fiber optic             No  ...   \n",
       "559           Yes                No             DSL             No  ...   \n",
       "4892          Yes               Yes     Fiber optic             No  ...   \n",
       "5386          Yes                No             DSL             No  ...   \n",
       "5263           No  No phone service             DSL            Yes  ...   \n",
       "\n",
       "     DeviceProtection TechSupport StreamingTV StreamingMovies        Contract  \\\n",
       "5133              Yes          No         Yes             Yes  Month-to-month   \n",
       "559                No         Yes          No              No  Month-to-month   \n",
       "4892               No          No         Yes              No  Month-to-month   \n",
       "5386               No          No          No              No  Month-to-month   \n",
       "5263               No          No         Yes              No  Month-to-month   \n",
       "\n",
       "     PaperlessBilling            PaymentMethod MonthlyCharges  TotalCharges  \\\n",
       "5133              Yes         Electronic check         104.25        2433.9   \n",
       "559               Yes         Electronic check          49.30          49.3   \n",
       "4892              Yes         Electronic check          84.35        1745.2   \n",
       "5386              Yes  Credit card (automatic)          45.80         436.2   \n",
       "5263              Yes         Electronic check          44.85       2479.05   \n",
       "\n",
       "     Churn  \n",
       "5133   Yes  \n",
       "559     No  \n",
       "4892    No  \n",
       "5386    No  \n",
       "5263    No  \n",
       "\n",
       "[5 rows x 21 columns]"
      ]
     },
     "execution_count": 8,
     "metadata": {},
     "output_type": "execute_result"
    }
   ],
   "source": [
    "df.sample(5)"
   ]
  },
  {
   "cell_type": "code",
   "execution_count": 11,
   "id": "92e341b5-44d2-4db4-88b3-8e30c0499364",
   "metadata": {},
   "outputs": [
    {
     "name": "stdout",
     "output_type": "stream",
     "text": [
      "<class 'pandas.core.frame.DataFrame'>\n",
      "RangeIndex: 7043 entries, 0 to 7042\n",
      "Data columns (total 21 columns):\n",
      " #   Column            Non-Null Count  Dtype  \n",
      "---  ------            --------------  -----  \n",
      " 0   customerID        7043 non-null   object \n",
      " 1   gender            7043 non-null   object \n",
      " 2   SeniorCitizen     7043 non-null   int64  \n",
      " 3   Partner           7043 non-null   object \n",
      " 4   Dependents        7043 non-null   object \n",
      " 5   tenure            7043 non-null   int64  \n",
      " 6   PhoneService      7043 non-null   object \n",
      " 7   MultipleLines     7043 non-null   object \n",
      " 8   InternetService   7043 non-null   object \n",
      " 9   OnlineSecurity    7043 non-null   object \n",
      " 10  OnlineBackup      7043 non-null   object \n",
      " 11  DeviceProtection  7043 non-null   object \n",
      " 12  TechSupport       7043 non-null   object \n",
      " 13  StreamingTV       7043 non-null   object \n",
      " 14  StreamingMovies   7043 non-null   object \n",
      " 15  Contract          7043 non-null   object \n",
      " 16  PaperlessBilling  7043 non-null   object \n",
      " 17  PaymentMethod     7043 non-null   object \n",
      " 18  MonthlyCharges    7043 non-null   float64\n",
      " 19  TotalCharges      7043 non-null   object \n",
      " 20  Churn             7043 non-null   object \n",
      "dtypes: float64(1), int64(2), object(18)\n",
      "memory usage: 1.1+ MB\n"
     ]
    }
   ],
   "source": [
    "df.info()"
   ]
  },
  {
   "cell_type": "code",
   "execution_count": 14,
   "id": "79a50a0a-d884-433e-ad73-21e31223efe0",
   "metadata": {},
   "outputs": [],
   "source": [
    "df.drop('customerID',axis='columns',inplace=True)"
   ]
  },
  {
   "cell_type": "markdown",
   "id": "543acd9b-79d6-4e5c-b5ef-c4370ac60d20",
   "metadata": {},
   "source": [
    "<div style = 'border : 3px solid non; background-color:#e3e3e3\n",
    "              ;font-family:Times New Roman;\n",
    "              font-size:110%;padding:10px'>\n",
    "\n",
    "\n",
    "  Drop customerID column as it is useless for the Model\n",
    "   "
   ]
  },
  {
   "cell_type": "code",
   "execution_count": 17,
   "id": "5d3c75d2-6593-42e1-bf1d-5387202a8826",
   "metadata": {},
   "outputs": [
    {
     "data": {
      "text/plain": [
       "gender\n",
       "Male      3555\n",
       "Female    3488\n",
       "Name: count, dtype: int64"
      ]
     },
     "execution_count": 17,
     "metadata": {},
     "output_type": "execute_result"
    }
   ],
   "source": [
    "df['gender'].value_counts()"
   ]
  },
  {
   "cell_type": "code",
   "execution_count": 20,
   "id": "14b4e1ca-238c-4ce0-85f8-5e698e7ae775",
   "metadata": {},
   "outputs": [
    {
     "data": {
      "image/png": "[encoded data removed]",
      "text/plain": [
       "<Figure size 2000x600 with 1 Axes>"
      ]
     },
     "metadata": {},
     "output_type": "display_data"
    }
   ],
   "source": [
    "colors = [\"#34eb6b\" , \"#0099ff\"]\n",
    "\n",
    "plt.figure(figsize = (20, 6))\n",
    "\n",
    "counts = df[\"gender\"].value_counts()\n",
    "explode = (0, 0.1)\n",
    "\n",
    "counts.plot(kind = 'pie', fontsize = 12, colors = colors, explode = explode, autopct = '%.1f%%')\n",
    "plt.title('Males Vs Females')\n",
    "plt.xlabel('Gender', weight = \"bold\", color = \"#2F0F5D\", fontsize = 14, labelpad = 20)\n",
    "plt.ylabel('Counts', weight = \"bold\", color = \"#2F0F5D\", fontsize = 14, labelpad = 20)\n",
    "plt.legend(labels = counts.index, loc = \"best\")\n",
    "plt.show()"
   ]
  },
  {
   "cell_type": "markdown",
   "id": "341fbe3c-699d-4512-9c84-5ba6b3009c63",
   "metadata": {},
   "source": [
    "<div style = 'border : 3px solid non; background-color:#e3e3e3\n",
    "              ;font-family:Times New Roman;\n",
    "              font-size:110%;padding:10px'>\n",
    "\n",
    "\n",
    " Convert 'Male' to 0 and 'Female' to 1\n",
    " "
   ]
  },
  {
   "cell_type": "code",
   "execution_count": 31,
   "id": "150bf01f-297c-478b-9a77-de4af2e4da9c",
   "metadata": {},
   "outputs": [],
   "source": [
    "df['gender'] = df['gender'].map({'Male': 0, 'Female': 1})"
   ]
  },
  {
   "cell_type": "code",
   "execution_count": 34,
   "id": "2f072c48-37f9-4e9d-af6d-87ef7fc29732",
   "metadata": {},
   "outputs": [
    {
     "data": {
      "text/plain": [
       "Partner\n",
       "No     3641\n",
       "Yes    3402\n",
       "Name: count, dtype: int64"
      ]
     },
     "execution_count": 34,
     "metadata": {},
     "output_type": "execute_result"
    }
   ],
   "source": [
    "df['Partner'].value_counts()"
   ]
  },
  {
   "cell_type": "code",
   "execution_count": 37,
   "id": "90fab1f7-caae-4ef2-8c18-2769b5c431a5",
   "metadata": {},
   "outputs": [
    {
     "data": {
      "image/png": "[encoded data removed]",
      "text/plain": [
       "<Figure size 2000x600 with 1 Axes>"
      ]
     },
     "metadata": {},
     "output_type": "display_data"
    }
   ],
   "source": [
    "colors = [\"#34eb6b\" , \"#0099ff\"]\n",
    "\n",
    "plt.figure(figsize = (20, 6))\n",
    "\n",
    "counts = df[\"Partner\"].value_counts()\n",
    "explode = (0, 0.1)\n",
    "\n",
    "counts.plot(kind = 'pie', fontsize = 12, colors = colors, explode = explode, autopct = '%.1f%%')\n",
    "plt.title('Yes Vs No')\n",
    "plt.xlabel('Status', weight = \"bold\", color = \"#2F0F5D\", fontsize = 14, labelpad = 20)\n",
    "plt.ylabel('Count', weight = \"bold\", color = \"#2F0F5D\", fontsize = 14, labelpad = 20)\n",
    "plt.legend(labels = counts.index, loc = \"best\")\n",
    "plt.show()"
   ]
  },
  {
   "cell_type": "markdown",
   "id": "cf0023b3-de17-4ef5-8e0f-3a34ff3a408d",
   "metadata": {},
   "source": [
    "<div style = 'border : 3px solid non; background-color:#e3e3e3\n",
    "              ;font-family:Times New Roman;\n",
    "              font-size:110%;padding:10px'>\n",
    "\n",
    "\n",
    " Convert 'No' to 0 and 'Yes' to 1\n",
    " "
   ]
  },
  {
   "cell_type": "code",
   "execution_count": 42,
   "id": "902689c4-9aaf-460e-9552-c2ad68b708e7",
   "metadata": {},
   "outputs": [],
   "source": [
    "df['Partner'] = df['Partner'].map({'No': 0, 'Yes': 1})"
   ]
  },
  {
   "cell_type": "code",
   "execution_count": 45,
   "id": "0108aac7-901b-4320-94fd-c073403e6faf",
   "metadata": {},
   "outputs": [
    {
     "data": {
      "text/plain": [
       "Dependents\n",
       "No     4933\n",
       "Yes    2110\n",
       "Name: count, dtype: int64"
      ]
     },
     "execution_count": 45,
     "metadata": {},
     "output_type": "execute_result"
    }
   ],
   "source": [
    "df['Dependents'].value_counts()"
   ]
  },
  {
   "cell_type": "code",
   "execution_count": 48,
   "id": "38b9167a-7c35-4520-a33e-8238a1749c18",
   "metadata": {},
   "outputs": [
    {
     "data": {
      "image/png": "[encoded data removed]",
      "text/plain": [
       "<Figure size 2000x600 with 1 Axes>"
      ]
     },
     "metadata": {},
     "output_type": "display_data"
    }
   ],
   "source": [
    "colors = [\"#34eb6b\" , \"#0099ff\"]\n",
    "\n",
    "plt.figure(figsize = (20, 6))\n",
    "\n",
    "ax = df[\"Dependents\"].value_counts().plot(kind = 'bar', color = colors[:2], rot = 0)\n",
    "ax.set_xticklabels(('Yes', 'No'))\n",
    "\n",
    "for p in ax.patches:\n",
    "    ax.annotate(int(p.get_height()), (p.get_x() + 0.25, p.get_height() + 1), ha = 'center', va = 'bottom', color = 'black')\n",
    "    ax.tick_params(axis = 'both', labelsize = 15)\n",
    "\n",
    "plt.xlabel('Status', weight = \"bold\", color = \"#D71313\", fontsize = 14)\n",
    "plt.ylabel('Count', weight = \"bold\", color = \"#D71313\", fontsize = 14);"
   ]
  },
  {
   "cell_type": "markdown",
   "id": "e5918147-5d64-48eb-a37a-8987f2e8f24f",
   "metadata": {},
   "source": [
    "<div style = 'border : 3px solid non; background-color:#e3e3e3\n",
    "              ;font-family:Times New Roman;\n",
    "              font-size:110%;padding:10px'>\n",
    "\n",
    "\n",
    " Convert 'No' to 0 and 'Yes' to 1\n",
    " "
   ]
  },
  {
   "cell_type": "code",
   "execution_count": 61,
   "id": "4132db3d-b6da-42b3-acc0-7a8ef60f8d7d",
   "metadata": {},
   "outputs": [],
   "source": [
    "df['Dependents'] = df['Dependents'].map({'No': 0, 'Yes': 1})"
   ]
  },
  {
   "cell_type": "code",
   "execution_count": 64,
   "id": "d4760227-b89d-4277-b2eb-ef19f217c78d",
   "metadata": {},
   "outputs": [
    {
     "data": {
      "text/plain": [
       "PhoneService\n",
       "Yes    6361\n",
       "No      682\n",
       "Name: count, dtype: int64"
      ]
     },
     "execution_count": 64,
     "metadata": {},
     "output_type": "execute_result"
    }
   ],
   "source": [
    "df['PhoneService'].value_counts()"
   ]
  },
  {
   "cell_type": "code",
   "execution_count": 67,
   "id": "4851f652-706a-40ec-8101-5b93c833d99b",
   "metadata": {},
   "outputs": [
    {
     "data": {
      "image/png": "[encoded data removed]",
      "text/plain": [
       "<Figure size 2000x600 with 1 Axes>"
      ]
     },
     "metadata": {},
     "output_type": "display_data"
    }
   ],
   "source": [
    "colors = [\"#34eb6b\" , \"#0099ff\"]\n",
    "\n",
    "plt.figure(figsize = (20, 6))\n",
    "\n",
    "ax = df[\"PhoneService\"].value_counts().plot(kind = 'bar', color = colors[:2], rot = 0)\n",
    "ax.set_xticklabels(('Yes', 'No'))\n",
    "\n",
    "for p in ax.patches:\n",
    "    ax.annotate(int(p.get_height()), (p.get_x() + 0.25, p.get_height() + 1), ha = 'center', va = 'bottom', color = 'black')\n",
    "    ax.tick_params(axis = 'both', labelsize = 15)\n",
    "\n",
    "plt.xlabel('Status', weight = \"bold\", color = \"#D71313\", fontsize = 14)\n",
    "plt.ylabel('Count', weight = \"bold\", color = \"#D71313\", fontsize = 14);"
   ]
  },
  {
   "cell_type": "markdown",
   "id": "f26246f5-55fa-443f-a42d-b0eeb3564676",
   "metadata": {},
   "source": [
    "<div style = 'border : 3px solid non; background-color:#e3e3e3\n",
    "              ;font-family:Times New Roman;\n",
    "              font-size:110%;padding:10px'>\n",
    "\n",
    "\n",
    " Convert 'No' to 0 and 'Yes' to 1\n",
    " "
   ]
  },
  {
   "cell_type": "code",
   "execution_count": 72,
   "id": "d90342ad-f2a3-4303-95c1-73c7b3651595",
   "metadata": {},
   "outputs": [],
   "source": [
    "df['PhoneService'] = df['PhoneService'].map({'No': 0, 'Yes': 1})"
   ]
  },
  {
   "cell_type": "code",
   "execution_count": 75,
   "id": "309a0463-b7fc-40d9-8518-577c0ec18d68",
   "metadata": {},
   "outputs": [
    {
     "data": {
      "text/plain": [
       "MultipleLines\n",
       "No                  3390\n",
       "Yes                 2971\n",
       "No phone service     682\n",
       "Name: count, dtype: int64"
      ]
     },
     "execution_count": 75,
     "metadata": {},
     "output_type": "execute_result"
    }
   ],
   "source": [
    "df['MultipleLines'].value_counts()"
   ]
  },
  {
   "cell_type": "code",
   "execution_count": 78,
   "id": "d08061fa-1788-47fa-b7e7-be80c445aed8",
   "metadata": {},
   "outputs": [
    {
     "data": {
      "image/png": "[encoded data removed]",
      "text/plain": [
       "<Figure size 2000x600 with 1 Axes>"
      ]
     },
     "metadata": {},
     "output_type": "display_data"
    }
   ],
   "source": [
    "colors = [\"#2B299B\" , \"#3B74C9\" , \"#85DFE3\"]\n",
    "\n",
    "plt.figure(figsize = (20, 6))\n",
    "\n",
    "counts = df[\"MultipleLines\"].value_counts()\n",
    "explode = (0, 0.1  , 0.1)\n",
    "\n",
    "counts.plot(kind = 'pie', fontsize = 12, colors = colors, explode = explode, autopct = '%.1f%%')\n",
    "plt.title('Status')\n",
    "plt.xlabel('Status', weight = \"bold\", color = \"#2F0F5D\", fontsize = 14, labelpad = 20)\n",
    "plt.ylabel('Count', weight = \"bold\", color = \"#2F0F5D\", fontsize = 14, labelpad = 20)\n",
    "plt.legend(labels = counts.index, loc = \"best\")\n",
    "plt.show()"
   ]
  },
  {
   "cell_type": "markdown",
   "id": "5042273c-9f78-4b69-9c02-a3c17e3cd127",
   "metadata": {},
   "source": [
    "<div style = 'border : 3px solid non; background-color:#e3e3e3\n",
    "              ;font-family:Times New Roman;\n",
    "              font-size:110%;padding:10px'>\n",
    "\n",
    "    \n",
    " Convert 'No phone service' to 0 &  Convert 'No' to 0 and 'Yes' to 1\n",
    " "
   ]
  },
  {
   "cell_type": "code",
   "execution_count": 83,
   "id": "847ee791-846d-4884-93c6-46bdf9bf5897",
   "metadata": {},
   "outputs": [],
   "source": [
    "mapping_dict = {'No phone service': 0, 'No': 0, 'Yes': 1}\n",
    "\n",
    "df['MultipleLines'] = df['MultipleLines'].map(mapping_dict)"
   ]
  },
  {
   "cell_type": "code",
   "execution_count": 86,
   "id": "4b551e8d-8063-4e0a-b726-b33db3c069b6",
   "metadata": {},
   "outputs": [],
   "source": [
    "from sklearn.preprocessing import LabelEncoder\n",
    "le = LabelEncoder()"
   ]
  },
  {
   "cell_type": "code",
   "execution_count": 89,
   "id": "2f5f70b6-a475-444b-8e67-86334289da29",
   "metadata": {},
   "outputs": [],
   "source": [
    "df.InternetService = le.fit_transform(df.InternetService)"
   ]
  },
  {
   "cell_type": "code",
   "execution_count": 92,
   "id": "deb69961-749a-48d2-9258-41df3eea4c06",
   "metadata": {},
   "outputs": [],
   "source": [
    "df.Contract = le.fit_transform(df.Contract)"
   ]
  },
  {
   "cell_type": "code",
   "execution_count": 95,
   "id": "ea079e81-fb83-4d78-9132-0708cf9fec0c",
   "metadata": {},
   "outputs": [],
   "source": [
    "df.PaymentMethod = le.fit_transform(df.PaymentMethod)"
   ]
  },
  {
   "cell_type": "code",
   "execution_count": 98,
   "id": "9ba8d29d-c03d-4ba9-9edd-118f778376be",
   "metadata": {},
   "outputs": [
    {
     "data": {
      "text/html": [
       "<div>\n",
       "<style scoped>\n",
       "    .dataframe tbody tr th:only-of-type {\n",
       "        vertical-align: middle;\n",
       "    }\n",
       "\n",
       "    .dataframe tbody tr th {\n",
       "        vertical-align: top;\n",
       "    }\n",
       "\n",
       "    .dataframe thead th {\n",
       "        text-align: right;\n",
       "    }\n",
       "</style>\n",
       "<table border=\"1\" class=\"dataframe\">\n",
       "  <thead>\n",
       "    <tr style=\"text-align: right;\">\n",
       "      <th></th>\n",
       "      <th>gender</th>\n",
       "      <th>SeniorCitizen</th>\n",
       "      <th>Partner</th>\n",
       "      <th>Dependents</th>\n",
       "      <th>tenure</th>\n",
       "      <th>PhoneService</th>\n",
       "      <th>MultipleLines</th>\n",
       "      <th>InternetService</th>\n",
       "      <th>OnlineSecurity</th>\n",
       "      <th>OnlineBackup</th>\n",
       "      <th>DeviceProtection</th>\n",
       "      <th>TechSupport</th>\n",
       "      <th>StreamingTV</th>\n",
       "      <th>StreamingMovies</th>\n",
       "      <th>Contract</th>\n",
       "      <th>PaperlessBilling</th>\n",
       "      <th>PaymentMethod</th>\n",
       "      <th>MonthlyCharges</th>\n",
       "      <th>TotalCharges</th>\n",
       "      <th>Churn</th>\n",
       "    </tr>\n",
       "  </thead>\n",
       "  <tbody>\n",
       "    <tr>\n",
       "      <th>4412</th>\n",
       "      <td>NaN</td>\n",
       "      <td>0</td>\n",
       "      <td>0</td>\n",
       "      <td>0</td>\n",
       "      <td>66</td>\n",
       "      <td>1</td>\n",
       "      <td>1</td>\n",
       "      <td>2</td>\n",
       "      <td>No internet service</td>\n",
       "      <td>No internet service</td>\n",
       "      <td>No internet service</td>\n",
       "      <td>No internet service</td>\n",
       "      <td>No internet service</td>\n",
       "      <td>No internet service</td>\n",
       "      <td>1</td>\n",
       "      <td>No</td>\n",
       "      <td>0</td>\n",
       "      <td>25.45</td>\n",
       "      <td>1699.15</td>\n",
       "      <td>No</td>\n",
       "    </tr>\n",
       "    <tr>\n",
       "      <th>6660</th>\n",
       "      <td>NaN</td>\n",
       "      <td>0</td>\n",
       "      <td>1</td>\n",
       "      <td>0</td>\n",
       "      <td>1</td>\n",
       "      <td>1</td>\n",
       "      <td>0</td>\n",
       "      <td>1</td>\n",
       "      <td>No</td>\n",
       "      <td>No</td>\n",
       "      <td>No</td>\n",
       "      <td>No</td>\n",
       "      <td>No</td>\n",
       "      <td>No</td>\n",
       "      <td>0</td>\n",
       "      <td>Yes</td>\n",
       "      <td>2</td>\n",
       "      <td>69.15</td>\n",
       "      <td>69.15</td>\n",
       "      <td>Yes</td>\n",
       "    </tr>\n",
       "    <tr>\n",
       "      <th>6917</th>\n",
       "      <td>NaN</td>\n",
       "      <td>0</td>\n",
       "      <td>1</td>\n",
       "      <td>0</td>\n",
       "      <td>72</td>\n",
       "      <td>1</td>\n",
       "      <td>1</td>\n",
       "      <td>1</td>\n",
       "      <td>Yes</td>\n",
       "      <td>Yes</td>\n",
       "      <td>No</td>\n",
       "      <td>No</td>\n",
       "      <td>No</td>\n",
       "      <td>No</td>\n",
       "      <td>2</td>\n",
       "      <td>Yes</td>\n",
       "      <td>0</td>\n",
       "      <td>84.05</td>\n",
       "      <td>6052.25</td>\n",
       "      <td>No</td>\n",
       "    </tr>\n",
       "    <tr>\n",
       "      <th>3608</th>\n",
       "      <td>NaN</td>\n",
       "      <td>0</td>\n",
       "      <td>0</td>\n",
       "      <td>0</td>\n",
       "      <td>39</td>\n",
       "      <td>1</td>\n",
       "      <td>1</td>\n",
       "      <td>1</td>\n",
       "      <td>No</td>\n",
       "      <td>No</td>\n",
       "      <td>No</td>\n",
       "      <td>No</td>\n",
       "      <td>No</td>\n",
       "      <td>No</td>\n",
       "      <td>0</td>\n",
       "      <td>No</td>\n",
       "      <td>2</td>\n",
       "      <td>75.25</td>\n",
       "      <td>3017.65</td>\n",
       "      <td>Yes</td>\n",
       "    </tr>\n",
       "  </tbody>\n",
       "</table>\n",
       "</div>"
      ],
      "text/plain": [
       "      gender  SeniorCitizen  Partner  Dependents  tenure  PhoneService  \\\n",
       "4412     NaN              0        0           0      66             1   \n",
       "6660     NaN              0        1           0       1             1   \n",
       "6917     NaN              0        1           0      72             1   \n",
       "3608     NaN              0        0           0      39             1   \n",
       "\n",
       "      MultipleLines  InternetService       OnlineSecurity  \\\n",
       "4412              1                2  No internet service   \n",
       "6660              0                1                   No   \n",
       "6917              1                1                  Yes   \n",
       "3608              1                1                   No   \n",
       "\n",
       "             OnlineBackup     DeviceProtection          TechSupport  \\\n",
       "4412  No internet service  No internet service  No internet service   \n",
       "6660                   No                   No                   No   \n",
       "6917                  Yes                   No                   No   \n",
       "3608                   No                   No                   No   \n",
       "\n",
       "              StreamingTV      StreamingMovies  Contract PaperlessBilling  \\\n",
       "4412  No internet service  No internet service         1               No   \n",
       "6660                   No                   No         0              Yes   \n",
       "6917                   No                   No         2              Yes   \n",
       "3608                   No                   No         0               No   \n",
       "\n",
       "      PaymentMethod  MonthlyCharges TotalCharges Churn  \n",
       "4412              0           25.45      1699.15    No  \n",
       "6660              2           69.15        69.15   Yes  \n",
       "6917              0           84.05      6052.25    No  \n",
       "3608              2           75.25      3017.65   Yes  "
      ]
     },
     "execution_count": 98,
     "metadata": {},
     "output_type": "execute_result"
    }
   ],
   "source": [
    "df.sample(4)"
   ]
  },
  {
   "cell_type": "markdown",
   "id": "fd4ea084-ccc6-4635-abc2-7cb5a7586115",
   "metadata": {},
   "source": [
    "<div style = 'border : 3px solid non; background-color:#e3e3e3\n",
    "              ;font-family:Times New Roman;\n",
    "              font-size:110%;padding:10px'>\n",
    "\n",
    "    \n",
    "To avoid redundancy, One function to pre-process them all \n",
    " "
   ]
  },
  {
   "cell_type": "code",
   "execution_count": 103,
   "id": "666d256c-2406-4eaa-91cf-c6c1640b991c",
   "metadata": {},
   "outputs": [],
   "source": [
    "df.replace('No internet service','No',inplace=True)\n",
    "df.replace('No phone service','No',inplace=True)"
   ]
  },
  {
   "cell_type": "code",
   "execution_count": 106,
   "id": "24713421-44bb-4e2e-bf3b-def572668aac",
   "metadata": {},
   "outputs": [],
   "source": [
    "yes_no_columns = ['Partner','Dependents','PhoneService','MultipleLines','OnlineSecurity','OnlineBackup',\n",
    "                  'DeviceProtection','TechSupport','StreamingTV','StreamingMovies','PaperlessBilling','Churn']\n",
    "for col in yes_no_columns:\n",
    "    df[col].replace({'Yes': 1,'No': 0},inplace=True)"
   ]
  },
  {
   "cell_type": "markdown",
   "id": "37c7d353-28f6-4a57-b9e8-b4d916bbc2a7",
   "metadata": {},
   "source": [
    "<div style = 'border : 3px solid non; background-color:#e3e3e3\n",
    "              ;font-family:Times New Roman;\n",
    "              font-size:110%;padding:10px'>\n",
    "\n",
    "Check the Null Values ...    \n",
    " "
   ]
  },
  {
   "cell_type": "code",
   "execution_count": 111,
   "id": "4eaa6607-4f5d-461d-abed-42a1f2be8dc1",
   "metadata": {},
   "outputs": [
    {
     "data": {
      "text/plain": [
       "11"
      ]
     },
     "execution_count": 111,
     "metadata": {},
     "output_type": "execute_result"
    }
   ],
   "source": [
    "pd.to_numeric(df.TotalCharges,errors='coerce').isnull().sum()"
   ]
  },
  {
   "cell_type": "code",
   "execution_count": 114,
   "id": "4d367b18-4c0b-455e-9228-686177b23e58",
   "metadata": {},
   "outputs": [
    {
     "data": {
      "text/html": [
       "<div>\n",
       "<style scoped>\n",
       "    .dataframe tbody tr th:only-of-type {\n",
       "        vertical-align: middle;\n",
       "    }\n",
       "\n",
       "    .dataframe tbody tr th {\n",
       "        vertical-align: top;\n",
       "    }\n",
       "\n",
       "    .dataframe thead th {\n",
       "        text-align: right;\n",
       "    }\n",
       "</style>\n",
       "<table border=\"1\" class=\"dataframe\">\n",
       "  <thead>\n",
       "    <tr style=\"text-align: right;\">\n",
       "      <th></th>\n",
       "      <th>gender</th>\n",
       "      <th>SeniorCitizen</th>\n",
       "      <th>Partner</th>\n",
       "      <th>Dependents</th>\n",
       "      <th>tenure</th>\n",
       "      <th>PhoneService</th>\n",
       "      <th>MultipleLines</th>\n",
       "      <th>InternetService</th>\n",
       "      <th>OnlineSecurity</th>\n",
       "      <th>OnlineBackup</th>\n",
       "      <th>DeviceProtection</th>\n",
       "      <th>TechSupport</th>\n",
       "      <th>StreamingTV</th>\n",
       "      <th>StreamingMovies</th>\n",
       "      <th>Contract</th>\n",
       "      <th>PaperlessBilling</th>\n",
       "      <th>PaymentMethod</th>\n",
       "      <th>MonthlyCharges</th>\n",
       "      <th>TotalCharges</th>\n",
       "      <th>Churn</th>\n",
       "    </tr>\n",
       "  </thead>\n",
       "  <tbody>\n",
       "    <tr>\n",
       "      <th>488</th>\n",
       "      <td>NaN</td>\n",
       "      <td>0</td>\n",
       "      <td>1</td>\n",
       "      <td>1</td>\n",
       "      <td>0</td>\n",
       "      <td>0</td>\n",
       "      <td>0</td>\n",
       "      <td>0</td>\n",
       "      <td>1</td>\n",
       "      <td>0</td>\n",
       "      <td>1</td>\n",
       "      <td>1</td>\n",
       "      <td>1</td>\n",
       "      <td>0</td>\n",
       "      <td>2</td>\n",
       "      <td>1</td>\n",
       "      <td>0</td>\n",
       "      <td>52.55</td>\n",
       "      <td></td>\n",
       "      <td>0</td>\n",
       "    </tr>\n",
       "    <tr>\n",
       "      <th>753</th>\n",
       "      <td>NaN</td>\n",
       "      <td>0</td>\n",
       "      <td>0</td>\n",
       "      <td>1</td>\n",
       "      <td>0</td>\n",
       "      <td>1</td>\n",
       "      <td>0</td>\n",
       "      <td>2</td>\n",
       "      <td>0</td>\n",
       "      <td>0</td>\n",
       "      <td>0</td>\n",
       "      <td>0</td>\n",
       "      <td>0</td>\n",
       "      <td>0</td>\n",
       "      <td>2</td>\n",
       "      <td>0</td>\n",
       "      <td>3</td>\n",
       "      <td>20.25</td>\n",
       "      <td></td>\n",
       "      <td>0</td>\n",
       "    </tr>\n",
       "    <tr>\n",
       "      <th>936</th>\n",
       "      <td>NaN</td>\n",
       "      <td>0</td>\n",
       "      <td>1</td>\n",
       "      <td>1</td>\n",
       "      <td>0</td>\n",
       "      <td>1</td>\n",
       "      <td>0</td>\n",
       "      <td>0</td>\n",
       "      <td>1</td>\n",
       "      <td>1</td>\n",
       "      <td>1</td>\n",
       "      <td>0</td>\n",
       "      <td>1</td>\n",
       "      <td>1</td>\n",
       "      <td>2</td>\n",
       "      <td>0</td>\n",
       "      <td>3</td>\n",
       "      <td>80.85</td>\n",
       "      <td></td>\n",
       "      <td>0</td>\n",
       "    </tr>\n",
       "    <tr>\n",
       "      <th>1082</th>\n",
       "      <td>NaN</td>\n",
       "      <td>0</td>\n",
       "      <td>1</td>\n",
       "      <td>1</td>\n",
       "      <td>0</td>\n",
       "      <td>1</td>\n",
       "      <td>1</td>\n",
       "      <td>2</td>\n",
       "      <td>0</td>\n",
       "      <td>0</td>\n",
       "      <td>0</td>\n",
       "      <td>0</td>\n",
       "      <td>0</td>\n",
       "      <td>0</td>\n",
       "      <td>2</td>\n",
       "      <td>0</td>\n",
       "      <td>3</td>\n",
       "      <td>25.75</td>\n",
       "      <td></td>\n",
       "      <td>0</td>\n",
       "    </tr>\n",
       "    <tr>\n",
       "      <th>1340</th>\n",
       "      <td>NaN</td>\n",
       "      <td>0</td>\n",
       "      <td>1</td>\n",
       "      <td>1</td>\n",
       "      <td>0</td>\n",
       "      <td>0</td>\n",
       "      <td>0</td>\n",
       "      <td>0</td>\n",
       "      <td>1</td>\n",
       "      <td>1</td>\n",
       "      <td>1</td>\n",
       "      <td>1</td>\n",
       "      <td>1</td>\n",
       "      <td>0</td>\n",
       "      <td>2</td>\n",
       "      <td>0</td>\n",
       "      <td>1</td>\n",
       "      <td>56.05</td>\n",
       "      <td></td>\n",
       "      <td>0</td>\n",
       "    </tr>\n",
       "    <tr>\n",
       "      <th>3331</th>\n",
       "      <td>NaN</td>\n",
       "      <td>0</td>\n",
       "      <td>1</td>\n",
       "      <td>1</td>\n",
       "      <td>0</td>\n",
       "      <td>1</td>\n",
       "      <td>0</td>\n",
       "      <td>2</td>\n",
       "      <td>0</td>\n",
       "      <td>0</td>\n",
       "      <td>0</td>\n",
       "      <td>0</td>\n",
       "      <td>0</td>\n",
       "      <td>0</td>\n",
       "      <td>2</td>\n",
       "      <td>0</td>\n",
       "      <td>3</td>\n",
       "      <td>19.85</td>\n",
       "      <td></td>\n",
       "      <td>0</td>\n",
       "    </tr>\n",
       "    <tr>\n",
       "      <th>3826</th>\n",
       "      <td>NaN</td>\n",
       "      <td>0</td>\n",
       "      <td>1</td>\n",
       "      <td>1</td>\n",
       "      <td>0</td>\n",
       "      <td>1</td>\n",
       "      <td>1</td>\n",
       "      <td>2</td>\n",
       "      <td>0</td>\n",
       "      <td>0</td>\n",
       "      <td>0</td>\n",
       "      <td>0</td>\n",
       "      <td>0</td>\n",
       "      <td>0</td>\n",
       "      <td>2</td>\n",
       "      <td>0</td>\n",
       "      <td>3</td>\n",
       "      <td>25.35</td>\n",
       "      <td></td>\n",
       "      <td>0</td>\n",
       "    </tr>\n",
       "    <tr>\n",
       "      <th>4380</th>\n",
       "      <td>NaN</td>\n",
       "      <td>0</td>\n",
       "      <td>1</td>\n",
       "      <td>1</td>\n",
       "      <td>0</td>\n",
       "      <td>1</td>\n",
       "      <td>0</td>\n",
       "      <td>2</td>\n",
       "      <td>0</td>\n",
       "      <td>0</td>\n",
       "      <td>0</td>\n",
       "      <td>0</td>\n",
       "      <td>0</td>\n",
       "      <td>0</td>\n",
       "      <td>2</td>\n",
       "      <td>0</td>\n",
       "      <td>3</td>\n",
       "      <td>20.00</td>\n",
       "      <td></td>\n",
       "      <td>0</td>\n",
       "    </tr>\n",
       "    <tr>\n",
       "      <th>5218</th>\n",
       "      <td>NaN</td>\n",
       "      <td>0</td>\n",
       "      <td>1</td>\n",
       "      <td>1</td>\n",
       "      <td>0</td>\n",
       "      <td>1</td>\n",
       "      <td>0</td>\n",
       "      <td>2</td>\n",
       "      <td>0</td>\n",
       "      <td>0</td>\n",
       "      <td>0</td>\n",
       "      <td>0</td>\n",
       "      <td>0</td>\n",
       "      <td>0</td>\n",
       "      <td>1</td>\n",
       "      <td>1</td>\n",
       "      <td>3</td>\n",
       "      <td>19.70</td>\n",
       "      <td></td>\n",
       "      <td>0</td>\n",
       "    </tr>\n",
       "    <tr>\n",
       "      <th>6670</th>\n",
       "      <td>NaN</td>\n",
       "      <td>0</td>\n",
       "      <td>1</td>\n",
       "      <td>1</td>\n",
       "      <td>0</td>\n",
       "      <td>1</td>\n",
       "      <td>1</td>\n",
       "      <td>0</td>\n",
       "      <td>0</td>\n",
       "      <td>1</td>\n",
       "      <td>1</td>\n",
       "      <td>1</td>\n",
       "      <td>1</td>\n",
       "      <td>0</td>\n",
       "      <td>2</td>\n",
       "      <td>0</td>\n",
       "      <td>3</td>\n",
       "      <td>73.35</td>\n",
       "      <td></td>\n",
       "      <td>0</td>\n",
       "    </tr>\n",
       "    <tr>\n",
       "      <th>6754</th>\n",
       "      <td>NaN</td>\n",
       "      <td>0</td>\n",
       "      <td>0</td>\n",
       "      <td>1</td>\n",
       "      <td>0</td>\n",
       "      <td>1</td>\n",
       "      <td>1</td>\n",
       "      <td>0</td>\n",
       "      <td>1</td>\n",
       "      <td>1</td>\n",
       "      <td>0</td>\n",
       "      <td>1</td>\n",
       "      <td>0</td>\n",
       "      <td>0</td>\n",
       "      <td>2</td>\n",
       "      <td>1</td>\n",
       "      <td>0</td>\n",
       "      <td>61.90</td>\n",
       "      <td></td>\n",
       "      <td>0</td>\n",
       "    </tr>\n",
       "  </tbody>\n",
       "</table>\n",
       "</div>"
      ],
      "text/plain": [
       "      gender  SeniorCitizen  Partner  Dependents  tenure  PhoneService  \\\n",
       "488      NaN              0        1           1       0             0   \n",
       "753      NaN              0        0           1       0             1   \n",
       "936      NaN              0        1           1       0             1   \n",
       "1082     NaN              0        1           1       0             1   \n",
       "1340     NaN              0        1           1       0             0   \n",
       "3331     NaN              0        1           1       0             1   \n",
       "3826     NaN              0        1           1       0             1   \n",
       "4380     NaN              0        1           1       0             1   \n",
       "5218     NaN              0        1           1       0             1   \n",
       "6670     NaN              0        1           1       0             1   \n",
       "6754     NaN              0        0           1       0             1   \n",
       "\n",
       "      MultipleLines  InternetService  OnlineSecurity  OnlineBackup  \\\n",
       "488               0                0               1             0   \n",
       "753               0                2               0             0   \n",
       "936               0                0               1             1   \n",
       "1082              1                2               0             0   \n",
       "1340              0                0               1             1   \n",
       "3331              0                2               0             0   \n",
       "3826              1                2               0             0   \n",
       "4380              0                2               0             0   \n",
       "5218              0                2               0             0   \n",
       "6670              1                0               0             1   \n",
       "6754              1                0               1             1   \n",
       "\n",
       "      DeviceProtection  TechSupport  StreamingTV  StreamingMovies  Contract  \\\n",
       "488                  1            1            1                0         2   \n",
       "753                  0            0            0                0         2   \n",
       "936                  1            0            1                1         2   \n",
       "1082                 0            0            0                0         2   \n",
       "1340                 1            1            1                0         2   \n",
       "3331                 0            0            0                0         2   \n",
       "3826                 0            0            0                0         2   \n",
       "4380                 0            0            0                0         2   \n",
       "5218                 0            0            0                0         1   \n",
       "6670                 1            1            1                0         2   \n",
       "6754                 0            1            0                0         2   \n",
       "\n",
       "      PaperlessBilling  PaymentMethod  MonthlyCharges TotalCharges  Churn  \n",
       "488                  1              0           52.55                   0  \n",
       "753                  0              3           20.25                   0  \n",
       "936                  0              3           80.85                   0  \n",
       "1082                 0              3           25.75                   0  \n",
       "1340                 0              1           56.05                   0  \n",
       "3331                 0              3           19.85                   0  \n",
       "3826                 0              3           25.35                   0  \n",
       "4380                 0              3           20.00                   0  \n",
       "5218                 1              3           19.70                   0  \n",
       "6670                 0              3           73.35                   0  \n",
       "6754                 1              0           61.90                   0  "
      ]
     },
     "execution_count": 114,
     "metadata": {},
     "output_type": "execute_result"
    }
   ],
   "source": [
    "df[pd.to_numeric(df.TotalCharges,errors='coerce').isnull()]"
   ]
  },
  {
   "cell_type": "code",
   "execution_count": 117,
   "id": "b7975932-55ad-42c0-8dc2-e4c49115ff78",
   "metadata": {},
   "outputs": [
    {
     "data": {
      "text/plain": [
       "(7043, 20)"
      ]
     },
     "execution_count": 117,
     "metadata": {},
     "output_type": "execute_result"
    }
   ],
   "source": [
    "df.shape"
   ]
  },
  {
   "cell_type": "markdown",
   "id": "d62b7356-6c22-412e-bdc8-6e9a17bbdc77",
   "metadata": {},
   "source": [
    "<div style = 'border : 3px solid non; background-color:#e3e3e3\n",
    "              ;font-family:Times New Roman;\n",
    "              font-size:110%;padding:10px'>\n",
    "\n",
    "Remove rows with space in TotalCharges    \n",
    " "
   ]
  },
  {
   "cell_type": "code",
   "execution_count": 122,
   "id": "89eb30b5-414a-4c86-9bd5-28d393cae609",
   "metadata": {},
   "outputs": [
    {
     "data": {
      "text/plain": [
       "(7032, 20)"
      ]
     },
     "execution_count": 122,
     "metadata": {},
     "output_type": "execute_result"
    }
   ],
   "source": [
    "df = df[df.TotalCharges!=' ']\n",
    "df.shape"
   ]
  },
  {
   "cell_type": "code",
   "execution_count": 125,
   "id": "52b5e8fa-d5b8-4efd-9620-a3c29b0d022e",
   "metadata": {},
   "outputs": [],
   "source": [
    "cols_to_scale = ['tenure','MonthlyCharges','TotalCharges']\n",
    "\n",
    "from sklearn.preprocessing import MinMaxScaler\n",
    "scaler = MinMaxScaler()\n",
    "df[cols_to_scale] = scaler.fit_transform(df[cols_to_scale])"
   ]
  },
  {
   "cell_type": "code",
   "execution_count": 128,
   "id": "38bfc522-78c8-4f3b-965f-8dfa05659e8e",
   "metadata": {},
   "outputs": [
    {
     "data": {
      "text/html": [
       "<div>\n",
       "<style scoped>\n",
       "    .dataframe tbody tr th:only-of-type {\n",
       "        vertical-align: middle;\n",
       "    }\n",
       "\n",
       "    .dataframe tbody tr th {\n",
       "        vertical-align: top;\n",
       "    }\n",
       "\n",
       "    .dataframe thead th {\n",
       "        text-align: right;\n",
       "    }\n",
       "</style>\n",
       "<table border=\"1\" class=\"dataframe\">\n",
       "  <thead>\n",
       "    <tr style=\"text-align: right;\">\n",
       "      <th></th>\n",
       "      <th>tenure</th>\n",
       "      <th>MonthlyCharges</th>\n",
       "      <th>TotalCharges</th>\n",
       "    </tr>\n",
       "  </thead>\n",
       "  <tbody>\n",
       "    <tr>\n",
       "      <th>5327</th>\n",
       "      <td>0.408451</td>\n",
       "      <td>0.014428</td>\n",
       "      <td>0.066980</td>\n",
       "    </tr>\n",
       "    <tr>\n",
       "      <th>6068</th>\n",
       "      <td>0.154930</td>\n",
       "      <td>0.261692</td>\n",
       "      <td>0.053289</td>\n",
       "    </tr>\n",
       "    <tr>\n",
       "      <th>6640</th>\n",
       "      <td>0.380282</td>\n",
       "      <td>0.323881</td>\n",
       "      <td>0.157858</td>\n",
       "    </tr>\n",
       "    <tr>\n",
       "      <th>6081</th>\n",
       "      <td>0.000000</td>\n",
       "      <td>0.313930</td>\n",
       "      <td>0.003577</td>\n",
       "    </tr>\n",
       "    <tr>\n",
       "      <th>1289</th>\n",
       "      <td>0.873239</td>\n",
       "      <td>0.502985</td>\n",
       "      <td>0.472254</td>\n",
       "    </tr>\n",
       "  </tbody>\n",
       "</table>\n",
       "</div>"
      ],
      "text/plain": [
       "        tenure  MonthlyCharges  TotalCharges\n",
       "5327  0.408451        0.014428      0.066980\n",
       "6068  0.154930        0.261692      0.053289\n",
       "6640  0.380282        0.323881      0.157858\n",
       "6081  0.000000        0.313930      0.003577\n",
       "1289  0.873239        0.502985      0.472254"
      ]
     },
     "execution_count": 128,
     "metadata": {},
     "output_type": "execute_result"
    }
   ],
   "source": [
    "df[cols_to_scale ].sample(5)"
   ]
  },
  {
   "cell_type": "code",
   "execution_count": 131,
   "id": "3edba04d-537d-4851-ab34-34b539636041",
   "metadata": {},
   "outputs": [
    {
     "data": {
      "text/html": [
       "<style type=\"text/css\">\n",
       "#T_c22f4_row0_col1, #T_c22f4_row0_col2, #T_c22f4_row1_col4, #T_c22f4_row2_col4, #T_c22f4_row3_col4, #T_c22f4_row4_col4, #T_c22f4_row5_col4, #T_c22f4_row6_col4, #T_c22f4_row7_col4, #T_c22f4_row8_col4, #T_c22f4_row9_col4, #T_c22f4_row10_col4, #T_c22f4_row11_col4, #T_c22f4_row12_col4, #T_c22f4_row13_col4, #T_c22f4_row14_col4, #T_c22f4_row15_col4, #T_c22f4_row16_col4, #T_c22f4_row17_col4, #T_c22f4_row18_col3, #T_c22f4_row18_col4, #T_c22f4_row19_col4 {\n",
       "  background-color: #08306b;\n",
       "  color: #f1f1f1;\n",
       "}\n",
       "#T_c22f4_row0_col3, #T_c22f4_row0_col4, #T_c22f4_row1_col1, #T_c22f4_row1_col2, #T_c22f4_row1_col3, #T_c22f4_row2_col1, #T_c22f4_row2_col2, #T_c22f4_row2_col3, #T_c22f4_row3_col1, #T_c22f4_row3_col2, #T_c22f4_row3_col3, #T_c22f4_row4_col1, #T_c22f4_row4_col2, #T_c22f4_row5_col1, #T_c22f4_row5_col2, #T_c22f4_row5_col3, #T_c22f4_row6_col1, #T_c22f4_row6_col2, #T_c22f4_row6_col3, #T_c22f4_row7_col1, #T_c22f4_row7_col2, #T_c22f4_row7_col3, #T_c22f4_row8_col1, #T_c22f4_row8_col2, #T_c22f4_row8_col3, #T_c22f4_row9_col1, #T_c22f4_row9_col2, #T_c22f4_row9_col3, #T_c22f4_row10_col1, #T_c22f4_row10_col2, #T_c22f4_row10_col3, #T_c22f4_row11_col1, #T_c22f4_row11_col2, #T_c22f4_row11_col3, #T_c22f4_row12_col1, #T_c22f4_row12_col2, #T_c22f4_row12_col3, #T_c22f4_row13_col1, #T_c22f4_row13_col2, #T_c22f4_row13_col3, #T_c22f4_row14_col1, #T_c22f4_row14_col2, #T_c22f4_row14_col3, #T_c22f4_row15_col1, #T_c22f4_row15_col2, #T_c22f4_row15_col3, #T_c22f4_row16_col1, #T_c22f4_row16_col2, #T_c22f4_row16_col3, #T_c22f4_row17_col1, #T_c22f4_row17_col2, #T_c22f4_row18_col1, #T_c22f4_row18_col2, #T_c22f4_row19_col1, #T_c22f4_row19_col2, #T_c22f4_row19_col3 {\n",
       "  background-color: #f7fbff;\n",
       "  color: #000000;\n",
       "}\n",
       "#T_c22f4_row4_col3 {\n",
       "  background-color: #f5fafe;\n",
       "  color: #000000;\n",
       "}\n",
       "#T_c22f4_row17_col3 {\n",
       "  background-color: #c7dcef;\n",
       "  color: #000000;\n",
       "}\n",
       "</style>\n",
       "<table id=\"T_c22f4\">\n",
       "  <thead>\n",
       "    <tr>\n",
       "      <th class=\"blank level0\" >&nbsp;</th>\n",
       "      <th id=\"T_c22f4_level0_col0\" class=\"col_heading level0 col0\" >dtypes</th>\n",
       "      <th id=\"T_c22f4_level0_col1\" class=\"col_heading level0 col1\" >missing#</th>\n",
       "      <th id=\"T_c22f4_level0_col2\" class=\"col_heading level0 col2\" >missing%</th>\n",
       "      <th id=\"T_c22f4_level0_col3\" class=\"col_heading level0 col3\" >unique</th>\n",
       "      <th id=\"T_c22f4_level0_col4\" class=\"col_heading level0 col4\" >count</th>\n",
       "    </tr>\n",
       "  </thead>\n",
       "  <tbody>\n",
       "    <tr>\n",
       "      <th id=\"T_c22f4_level0_row0\" class=\"row_heading level0 row0\" >gender</th>\n",
       "      <td id=\"T_c22f4_row0_col0\" class=\"data row0 col0\" >float64</td>\n",
       "      <td id=\"T_c22f4_row0_col1\" class=\"data row0 col1\" >7032</td>\n",
       "      <td id=\"T_c22f4_row0_col2\" class=\"data row0 col2\" >1.000000</td>\n",
       "      <td id=\"T_c22f4_row0_col3\" class=\"data row0 col3\" >0</td>\n",
       "      <td id=\"T_c22f4_row0_col4\" class=\"data row0 col4\" >0</td>\n",
       "    </tr>\n",
       "    <tr>\n",
       "      <th id=\"T_c22f4_level0_row1\" class=\"row_heading level0 row1\" >SeniorCitizen</th>\n",
       "      <td id=\"T_c22f4_row1_col0\" class=\"data row1 col0\" >int64</td>\n",
       "      <td id=\"T_c22f4_row1_col1\" class=\"data row1 col1\" >0</td>\n",
       "      <td id=\"T_c22f4_row1_col2\" class=\"data row1 col2\" >0.000000</td>\n",
       "      <td id=\"T_c22f4_row1_col3\" class=\"data row1 col3\" >2</td>\n",
       "      <td id=\"T_c22f4_row1_col4\" class=\"data row1 col4\" >7032</td>\n",
       "    </tr>\n",
       "    <tr>\n",
       "      <th id=\"T_c22f4_level0_row2\" class=\"row_heading level0 row2\" >Partner</th>\n",
       "      <td id=\"T_c22f4_row2_col0\" class=\"data row2 col0\" >int64</td>\n",
       "      <td id=\"T_c22f4_row2_col1\" class=\"data row2 col1\" >0</td>\n",
       "      <td id=\"T_c22f4_row2_col2\" class=\"data row2 col2\" >0.000000</td>\n",
       "      <td id=\"T_c22f4_row2_col3\" class=\"data row2 col3\" >2</td>\n",
       "      <td id=\"T_c22f4_row2_col4\" class=\"data row2 col4\" >7032</td>\n",
       "    </tr>\n",
       "    <tr>\n",
       "      <th id=\"T_c22f4_level0_row3\" class=\"row_heading level0 row3\" >Dependents</th>\n",
       "      <td id=\"T_c22f4_row3_col0\" class=\"data row3 col0\" >int64</td>\n",
       "      <td id=\"T_c22f4_row3_col1\" class=\"data row3 col1\" >0</td>\n",
       "      <td id=\"T_c22f4_row3_col2\" class=\"data row3 col2\" >0.000000</td>\n",
       "      <td id=\"T_c22f4_row3_col3\" class=\"data row3 col3\" >2</td>\n",
       "      <td id=\"T_c22f4_row3_col4\" class=\"data row3 col4\" >7032</td>\n",
       "    </tr>\n",
       "    <tr>\n",
       "      <th id=\"T_c22f4_level0_row4\" class=\"row_heading level0 row4\" >tenure</th>\n",
       "      <td id=\"T_c22f4_row4_col0\" class=\"data row4 col0\" >float64</td>\n",
       "      <td id=\"T_c22f4_row4_col1\" class=\"data row4 col1\" >0</td>\n",
       "      <td id=\"T_c22f4_row4_col2\" class=\"data row4 col2\" >0.000000</td>\n",
       "      <td id=\"T_c22f4_row4_col3\" class=\"data row4 col3\" >72</td>\n",
       "      <td id=\"T_c22f4_row4_col4\" class=\"data row4 col4\" >7032</td>\n",
       "    </tr>\n",
       "    <tr>\n",
       "      <th id=\"T_c22f4_level0_row5\" class=\"row_heading level0 row5\" >PhoneService</th>\n",
       "      <td id=\"T_c22f4_row5_col0\" class=\"data row5 col0\" >int64</td>\n",
       "      <td id=\"T_c22f4_row5_col1\" class=\"data row5 col1\" >0</td>\n",
       "      <td id=\"T_c22f4_row5_col2\" class=\"data row5 col2\" >0.000000</td>\n",
       "      <td id=\"T_c22f4_row5_col3\" class=\"data row5 col3\" >2</td>\n",
       "      <td id=\"T_c22f4_row5_col4\" class=\"data row5 col4\" >7032</td>\n",
       "    </tr>\n",
       "    <tr>\n",
       "      <th id=\"T_c22f4_level0_row6\" class=\"row_heading level0 row6\" >MultipleLines</th>\n",
       "      <td id=\"T_c22f4_row6_col0\" class=\"data row6 col0\" >int64</td>\n",
       "      <td id=\"T_c22f4_row6_col1\" class=\"data row6 col1\" >0</td>\n",
       "      <td id=\"T_c22f4_row6_col2\" class=\"data row6 col2\" >0.000000</td>\n",
       "      <td id=\"T_c22f4_row6_col3\" class=\"data row6 col3\" >2</td>\n",
       "      <td id=\"T_c22f4_row6_col4\" class=\"data row6 col4\" >7032</td>\n",
       "    </tr>\n",
       "    <tr>\n",
       "      <th id=\"T_c22f4_level0_row7\" class=\"row_heading level0 row7\" >InternetService</th>\n",
       "      <td id=\"T_c22f4_row7_col0\" class=\"data row7 col0\" >int64</td>\n",
       "      <td id=\"T_c22f4_row7_col1\" class=\"data row7 col1\" >0</td>\n",
       "      <td id=\"T_c22f4_row7_col2\" class=\"data row7 col2\" >0.000000</td>\n",
       "      <td id=\"T_c22f4_row7_col3\" class=\"data row7 col3\" >3</td>\n",
       "      <td id=\"T_c22f4_row7_col4\" class=\"data row7 col4\" >7032</td>\n",
       "    </tr>\n",
       "    <tr>\n",
       "      <th id=\"T_c22f4_level0_row8\" class=\"row_heading level0 row8\" >OnlineSecurity</th>\n",
       "      <td id=\"T_c22f4_row8_col0\" class=\"data row8 col0\" >int64</td>\n",
       "      <td id=\"T_c22f4_row8_col1\" class=\"data row8 col1\" >0</td>\n",
       "      <td id=\"T_c22f4_row8_col2\" class=\"data row8 col2\" >0.000000</td>\n",
       "      <td id=\"T_c22f4_row8_col3\" class=\"data row8 col3\" >2</td>\n",
       "      <td id=\"T_c22f4_row8_col4\" class=\"data row8 col4\" >7032</td>\n",
       "    </tr>\n",
       "    <tr>\n",
       "      <th id=\"T_c22f4_level0_row9\" class=\"row_heading level0 row9\" >OnlineBackup</th>\n",
       "      <td id=\"T_c22f4_row9_col0\" class=\"data row9 col0\" >int64</td>\n",
       "      <td id=\"T_c22f4_row9_col1\" class=\"data row9 col1\" >0</td>\n",
       "      <td id=\"T_c22f4_row9_col2\" class=\"data row9 col2\" >0.000000</td>\n",
       "      <td id=\"T_c22f4_row9_col3\" class=\"data row9 col3\" >2</td>\n",
       "      <td id=\"T_c22f4_row9_col4\" class=\"data row9 col4\" >7032</td>\n",
       "    </tr>\n",
       "    <tr>\n",
       "      <th id=\"T_c22f4_level0_row10\" class=\"row_heading level0 row10\" >DeviceProtection</th>\n",
       "      <td id=\"T_c22f4_row10_col0\" class=\"data row10 col0\" >int64</td>\n",
       "      <td id=\"T_c22f4_row10_col1\" class=\"data row10 col1\" >0</td>\n",
       "      <td id=\"T_c22f4_row10_col2\" class=\"data row10 col2\" >0.000000</td>\n",
       "      <td id=\"T_c22f4_row10_col3\" class=\"data row10 col3\" >2</td>\n",
       "      <td id=\"T_c22f4_row10_col4\" class=\"data row10 col4\" >7032</td>\n",
       "    </tr>\n",
       "    <tr>\n",
       "      <th id=\"T_c22f4_level0_row11\" class=\"row_heading level0 row11\" >TechSupport</th>\n",
       "      <td id=\"T_c22f4_row11_col0\" class=\"data row11 col0\" >int64</td>\n",
       "      <td id=\"T_c22f4_row11_col1\" class=\"data row11 col1\" >0</td>\n",
       "      <td id=\"T_c22f4_row11_col2\" class=\"data row11 col2\" >0.000000</td>\n",
       "      <td id=\"T_c22f4_row11_col3\" class=\"data row11 col3\" >2</td>\n",
       "      <td id=\"T_c22f4_row11_col4\" class=\"data row11 col4\" >7032</td>\n",
       "    </tr>\n",
       "    <tr>\n",
       "      <th id=\"T_c22f4_level0_row12\" class=\"row_heading level0 row12\" >StreamingTV</th>\n",
       "      <td id=\"T_c22f4_row12_col0\" class=\"data row12 col0\" >int64</td>\n",
       "      <td id=\"T_c22f4_row12_col1\" class=\"data row12 col1\" >0</td>\n",
       "      <td id=\"T_c22f4_row12_col2\" class=\"data row12 col2\" >0.000000</td>\n",
       "      <td id=\"T_c22f4_row12_col3\" class=\"data row12 col3\" >2</td>\n",
       "      <td id=\"T_c22f4_row12_col4\" class=\"data row12 col4\" >7032</td>\n",
       "    </tr>\n",
       "    <tr>\n",
       "      <th id=\"T_c22f4_level0_row13\" class=\"row_heading level0 row13\" >StreamingMovies</th>\n",
       "      <td id=\"T_c22f4_row13_col0\" class=\"data row13 col0\" >int64</td>\n",
       "      <td id=\"T_c22f4_row13_col1\" class=\"data row13 col1\" >0</td>\n",
       "      <td id=\"T_c22f4_row13_col2\" class=\"data row13 col2\" >0.000000</td>\n",
       "      <td id=\"T_c22f4_row13_col3\" class=\"data row13 col3\" >2</td>\n",
       "      <td id=\"T_c22f4_row13_col4\" class=\"data row13 col4\" >7032</td>\n",
       "    </tr>\n",
       "    <tr>\n",
       "      <th id=\"T_c22f4_level0_row14\" class=\"row_heading level0 row14\" >Contract</th>\n",
       "      <td id=\"T_c22f4_row14_col0\" class=\"data row14 col0\" >int64</td>\n",
       "      <td id=\"T_c22f4_row14_col1\" class=\"data row14 col1\" >0</td>\n",
       "      <td id=\"T_c22f4_row14_col2\" class=\"data row14 col2\" >0.000000</td>\n",
       "      <td id=\"T_c22f4_row14_col3\" class=\"data row14 col3\" >3</td>\n",
       "      <td id=\"T_c22f4_row14_col4\" class=\"data row14 col4\" >7032</td>\n",
       "    </tr>\n",
       "    <tr>\n",
       "      <th id=\"T_c22f4_level0_row15\" class=\"row_heading level0 row15\" >PaperlessBilling</th>\n",
       "      <td id=\"T_c22f4_row15_col0\" class=\"data row15 col0\" >int64</td>\n",
       "      <td id=\"T_c22f4_row15_col1\" class=\"data row15 col1\" >0</td>\n",
       "      <td id=\"T_c22f4_row15_col2\" class=\"data row15 col2\" >0.000000</td>\n",
       "      <td id=\"T_c22f4_row15_col3\" class=\"data row15 col3\" >2</td>\n",
       "      <td id=\"T_c22f4_row15_col4\" class=\"data row15 col4\" >7032</td>\n",
       "    </tr>\n",
       "    <tr>\n",
       "      <th id=\"T_c22f4_level0_row16\" class=\"row_heading level0 row16\" >PaymentMethod</th>\n",
       "      <td id=\"T_c22f4_row16_col0\" class=\"data row16 col0\" >int64</td>\n",
       "      <td id=\"T_c22f4_row16_col1\" class=\"data row16 col1\" >0</td>\n",
       "      <td id=\"T_c22f4_row16_col2\" class=\"data row16 col2\" >0.000000</td>\n",
       "      <td id=\"T_c22f4_row16_col3\" class=\"data row16 col3\" >4</td>\n",
       "      <td id=\"T_c22f4_row16_col4\" class=\"data row16 col4\" >7032</td>\n",
       "    </tr>\n",
       "    <tr>\n",
       "      <th id=\"T_c22f4_level0_row17\" class=\"row_heading level0 row17\" >MonthlyCharges</th>\n",
       "      <td id=\"T_c22f4_row17_col0\" class=\"data row17 col0\" >float64</td>\n",
       "      <td id=\"T_c22f4_row17_col1\" class=\"data row17 col1\" >0</td>\n",
       "      <td id=\"T_c22f4_row17_col2\" class=\"data row17 col2\" >0.000000</td>\n",
       "      <td id=\"T_c22f4_row17_col3\" class=\"data row17 col3\" >1584</td>\n",
       "      <td id=\"T_c22f4_row17_col4\" class=\"data row17 col4\" >7032</td>\n",
       "    </tr>\n",
       "    <tr>\n",
       "      <th id=\"T_c22f4_level0_row18\" class=\"row_heading level0 row18\" >TotalCharges</th>\n",
       "      <td id=\"T_c22f4_row18_col0\" class=\"data row18 col0\" >float64</td>\n",
       "      <td id=\"T_c22f4_row18_col1\" class=\"data row18 col1\" >0</td>\n",
       "      <td id=\"T_c22f4_row18_col2\" class=\"data row18 col2\" >0.000000</td>\n",
       "      <td id=\"T_c22f4_row18_col3\" class=\"data row18 col3\" >6530</td>\n",
       "      <td id=\"T_c22f4_row18_col4\" class=\"data row18 col4\" >7032</td>\n",
       "    </tr>\n",
       "    <tr>\n",
       "      <th id=\"T_c22f4_level0_row19\" class=\"row_heading level0 row19\" >Churn</th>\n",
       "      <td id=\"T_c22f4_row19_col0\" class=\"data row19 col0\" >int64</td>\n",
       "      <td id=\"T_c22f4_row19_col1\" class=\"data row19 col1\" >0</td>\n",
       "      <td id=\"T_c22f4_row19_col2\" class=\"data row19 col2\" >0.000000</td>\n",
       "      <td id=\"T_c22f4_row19_col3\" class=\"data row19 col3\" >2</td>\n",
       "      <td id=\"T_c22f4_row19_col4\" class=\"data row19 col4\" >7032</td>\n",
       "    </tr>\n",
       "  </tbody>\n",
       "</table>\n"
      ],
      "text/plain": [
       "<pandas.io.formats.style.Styler at 0x3052bf680>"
      ]
     },
     "execution_count": 131,
     "metadata": {},
     "output_type": "execute_result"
    }
   ],
   "source": [
    "def summary(df):\n",
    "    summary_df = pd.DataFrame(df.dtypes, columns=['dtypes'])\n",
    "    summary_df['missing#'] = df.isna().sum()\n",
    "    summary_df['missing%'] = (df.isna().sum())/len(df)\n",
    "    summary_df['unique'] = df.nunique().values\n",
    "    summary_df['count'] = df.count().values\n",
    "    return summary_df\n",
    "\n",
    "summary(df).style.background_gradient(cmap='Blues')"
   ]
  },
  {
   "cell_type": "code",
   "execution_count": 134,
   "id": "25e95a28-6b49-4c8d-ab84-cce1f112bcc2",
   "metadata": {},
   "outputs": [],
   "source": [
    "X = df.drop('Churn',axis='columns')\n",
    "y = df['Churn']"
   ]
  },
  {
   "cell_type": "code",
   "execution_count": 137,
   "id": "7fa39b49-6757-4420-8d2a-68e907ae0f89",
   "metadata": {},
   "outputs": [
    {
     "data": {
      "text/html": [
       "<div>\n",
       "<style scoped>\n",
       "    .dataframe tbody tr th:only-of-type {\n",
       "        vertical-align: middle;\n",
       "    }\n",
       "\n",
       "    .dataframe tbody tr th {\n",
       "        vertical-align: top;\n",
       "    }\n",
       "\n",
       "    .dataframe thead th {\n",
       "        text-align: right;\n",
       "    }\n",
       "</style>\n",
       "<table border=\"1\" class=\"dataframe\">\n",
       "  <thead>\n",
       "    <tr style=\"text-align: right;\">\n",
       "      <th></th>\n",
       "      <th>gender</th>\n",
       "      <th>SeniorCitizen</th>\n",
       "      <th>Partner</th>\n",
       "      <th>Dependents</th>\n",
       "      <th>tenure</th>\n",
       "      <th>PhoneService</th>\n",
       "      <th>MultipleLines</th>\n",
       "      <th>InternetService</th>\n",
       "      <th>OnlineSecurity</th>\n",
       "      <th>OnlineBackup</th>\n",
       "      <th>DeviceProtection</th>\n",
       "      <th>TechSupport</th>\n",
       "      <th>StreamingTV</th>\n",
       "      <th>StreamingMovies</th>\n",
       "      <th>Contract</th>\n",
       "      <th>PaperlessBilling</th>\n",
       "      <th>PaymentMethod</th>\n",
       "      <th>MonthlyCharges</th>\n",
       "      <th>TotalCharges</th>\n",
       "    </tr>\n",
       "  </thead>\n",
       "  <tbody>\n",
       "    <tr>\n",
       "      <th>120</th>\n",
       "      <td>NaN</td>\n",
       "      <td>0</td>\n",
       "      <td>1</td>\n",
       "      <td>1</td>\n",
       "      <td>0.774648</td>\n",
       "      <td>1</td>\n",
       "      <td>1</td>\n",
       "      <td>1</td>\n",
       "      <td>0</td>\n",
       "      <td>0</td>\n",
       "      <td>1</td>\n",
       "      <td>0</td>\n",
       "      <td>1</td>\n",
       "      <td>1</td>\n",
       "      <td>1</td>\n",
       "      <td>1</td>\n",
       "      <td>1</td>\n",
       "      <td>0.811443</td>\n",
       "      <td>0.634278</td>\n",
       "    </tr>\n",
       "    <tr>\n",
       "      <th>184</th>\n",
       "      <td>NaN</td>\n",
       "      <td>0</td>\n",
       "      <td>0</td>\n",
       "      <td>0</td>\n",
       "      <td>0.169014</td>\n",
       "      <td>1</td>\n",
       "      <td>0</td>\n",
       "      <td>1</td>\n",
       "      <td>0</td>\n",
       "      <td>1</td>\n",
       "      <td>1</td>\n",
       "      <td>0</td>\n",
       "      <td>0</td>\n",
       "      <td>0</td>\n",
       "      <td>0</td>\n",
       "      <td>1</td>\n",
       "      <td>2</td>\n",
       "      <td>0.606965</td>\n",
       "      <td>0.126108</td>\n",
       "    </tr>\n",
       "    <tr>\n",
       "      <th>5790</th>\n",
       "      <td>NaN</td>\n",
       "      <td>0</td>\n",
       "      <td>1</td>\n",
       "      <td>1</td>\n",
       "      <td>0.549296</td>\n",
       "      <td>0</td>\n",
       "      <td>0</td>\n",
       "      <td>0</td>\n",
       "      <td>0</td>\n",
       "      <td>1</td>\n",
       "      <td>0</td>\n",
       "      <td>0</td>\n",
       "      <td>1</td>\n",
       "      <td>1</td>\n",
       "      <td>0</td>\n",
       "      <td>1</td>\n",
       "      <td>2</td>\n",
       "      <td>0.324378</td>\n",
       "      <td>0.232835</td>\n",
       "    </tr>\n",
       "  </tbody>\n",
       "</table>\n",
       "</div>"
      ],
      "text/plain": [
       "      gender  SeniorCitizen  Partner  Dependents    tenure  PhoneService  \\\n",
       "120      NaN              0        1           1  0.774648             1   \n",
       "184      NaN              0        0           0  0.169014             1   \n",
       "5790     NaN              0        1           1  0.549296             0   \n",
       "\n",
       "      MultipleLines  InternetService  OnlineSecurity  OnlineBackup  \\\n",
       "120               1                1               0             0   \n",
       "184               0                1               0             1   \n",
       "5790              0                0               0             1   \n",
       "\n",
       "      DeviceProtection  TechSupport  StreamingTV  StreamingMovies  Contract  \\\n",
       "120                  1            0            1                1         1   \n",
       "184                  1            0            0                0         0   \n",
       "5790                 0            0            1                1         0   \n",
       "\n",
       "      PaperlessBilling  PaymentMethod  MonthlyCharges  TotalCharges  \n",
       "120                  1              1        0.811443      0.634278  \n",
       "184                  1              2        0.606965      0.126108  \n",
       "5790                 1              2        0.324378      0.232835  "
      ]
     },
     "execution_count": 137,
     "metadata": {},
     "output_type": "execute_result"
    }
   ],
   "source": [
    "X.sample(3)"
   ]
  },
  {
   "cell_type": "code",
   "execution_count": 140,
   "id": "1dc8de66-4bd6-42bf-b71f-fcff1b871eca",
   "metadata": {},
   "outputs": [
    {
     "data": {
      "text/plain": [
       "6609    1\n",
       "1671    0\n",
       "5814    0\n",
       "Name: Churn, dtype: int64"
      ]
     },
     "execution_count": 140,
     "metadata": {},
     "output_type": "execute_result"
    }
   ],
   "source": [
    "y.sample(3)"
   ]
  },
  {
   "cell_type": "code",
   "execution_count": 143,
   "id": "116c7694-8746-45a3-ae4e-32f8610a4797",
   "metadata": {},
   "outputs": [],
   "source": [
    "from sklearn.model_selection import train_test_split\n",
    "X_train, X_test, y_train, y_test = train_test_split(X,y,test_size=0.2,random_state=5)"
   ]
  },
  {
   "cell_type": "code",
   "execution_count": 145,
   "id": "53478470-3c60-4ee7-8b69-d82ab768cfa0",
   "metadata": {},
   "outputs": [
    {
     "data": {
      "text/plain": [
       "(5625, 19)"
      ]
     },
     "execution_count": 145,
     "metadata": {},
     "output_type": "execute_result"
    }
   ],
   "source": [
    "X_train.shape"
   ]
  },
  {
   "cell_type": "code",
   "execution_count": 148,
   "id": "9ccdd164-0ded-498f-ab3f-6a12e6f09bf3",
   "metadata": {},
   "outputs": [
    {
     "data": {
      "text/plain": [
       "(1407, 19)"
      ]
     },
     "execution_count": 148,
     "metadata": {},
     "output_type": "execute_result"
    }
   ],
   "source": [
    "X_test.shape"
   ]
  },
  {
   "cell_type": "code",
   "execution_count": 151,
   "id": "13ade9eb-68dd-48e3-974c-47f013edc814",
   "metadata": {},
   "outputs": [],
   "source": [
    "import tensorflow as tf\n",
    "from tensorflow import keras"
   ]
  },
  {
   "cell_type": "code",
   "execution_count": 154,
   "id": "bf2539f0-7fe9-4934-a357-d335b72275b6",
   "metadata": {},
   "outputs": [],
   "source": [
    "model = keras.Sequential([\n",
    "    keras.layers.Dense(15, input_shape=(19,), activation='relu'),\n",
    "    keras.layers.Dense(15, activation='relu'),\n",
    "    keras.layers.Dense(1, activation='sigmoid')\n",
    "])"
   ]
  },
  {
   "cell_type": "code",
   "execution_count": 157,
   "id": "842be3a0-03fb-4dd9-9504-ed85bd82f58f",
   "metadata": {},
   "outputs": [
    {
     "name": "stdout",
     "output_type": "stream",
     "text": [
      "Epoch 1/100\n",
      "\u001b[1m176/176\u001b[0m \u001b[32m━━━━━━━━━━━━━━━━━━━━\u001b[0m\u001b[37m\u001b[0m \u001b[1m0s\u001b[0m 325us/step - accuracy: 0.7425 - loss: nan\n",
      "Epoch 2/100\n",
      "\u001b[1m176/176\u001b[0m \u001b[32m━━━━━━━━━━━━━━━━━━━━\u001b[0m\u001b[37m\u001b[0m \u001b[1m0s\u001b[0m 460us/step - accuracy: 0.7383 - loss: nan\n",
      "Epoch 3/100\n",
      "\u001b[1m176/176\u001b[0m \u001b[32m━━━━━━━━━━━━━━━━━━━━\u001b[0m\u001b[37m\u001b[0m \u001b[1m0s\u001b[0m 299us/step - accuracy: 0.7404 - loss: nan\n",
      "Epoch 4/100\n",
      "\u001b[1m176/176\u001b[0m \u001b[32m━━━━━━━━━━━━━━━━━━━━\u001b[0m\u001b[37m\u001b[0m \u001b[1m0s\u001b[0m 300us/step - accuracy: 0.7433 - loss: nan\n",
      "Epoch 5/100\n",
      "\u001b[1m176/176\u001b[0m \u001b[32m━━━━━━━━━━━━━━━━━━━━\u001b[0m\u001b[37m\u001b[0m \u001b[1m0s\u001b[0m 303us/step - accuracy: 0.7367 - loss: nan\n",
      "Epoch 6/100\n",
      "\u001b[1m176/176\u001b[0m \u001b[32m━━━━━━━━━━━━━━━━━━━━\u001b[0m\u001b[37m\u001b[0m \u001b[1m0s\u001b[0m 309us/step - accuracy: 0.7442 - loss: nan\n",
      "Epoch 7/100\n",
      "\u001b[1m176/176\u001b[0m \u001b[32m━━━━━━━━━━━━━━━━━━━━\u001b[0m\u001b[37m\u001b[0m \u001b[1m0s\u001b[0m 299us/step - accuracy: 0.7440 - loss: nan\n",
      "Epoch 8/100\n",
      "\u001b[1m176/176\u001b[0m \u001b[32m━━━━━━━━━━━━━━━━━━━━\u001b[0m\u001b[37m\u001b[0m \u001b[1m0s\u001b[0m 299us/step - accuracy: 0.7349 - loss: nan\n",
      "Epoch 9/100\n",
      "\u001b[1m176/176\u001b[0m \u001b[32m━━━━━━━━━━━━━━━━━━━━\u001b[0m\u001b[37m\u001b[0m \u001b[1m0s\u001b[0m 299us/step - accuracy: 0.7432 - loss: nan\n",
      "Epoch 10/100\n",
      "\u001b[1m176/176\u001b[0m \u001b[32m━━━━━━━━━━━━━━━━━━━━\u001b[0m\u001b[37m\u001b[0m \u001b[1m0s\u001b[0m 296us/step - accuracy: 0.7419 - loss: nan\n",
      "Epoch 11/100\n",
      "\u001b[1m176/176\u001b[0m \u001b[32m━━━━━━━━━━━━━━━━━━━━\u001b[0m\u001b[37m\u001b[0m \u001b[1m0s\u001b[0m 300us/step - accuracy: 0.7417 - loss: nan\n",
      "Epoch 12/100\n",
      "\u001b[1m176/176\u001b[0m \u001b[32m━━━━━━━━━━━━━━━━━━━━\u001b[0m\u001b[37m\u001b[0m \u001b[1m0s\u001b[0m 298us/step - accuracy: 0.7394 - loss: nan\n",
      "Epoch 13/100\n",
      "\u001b[1m176/176\u001b[0m \u001b[32m━━━━━━━━━━━━━━━━━━━━\u001b[0m\u001b[37m\u001b[0m \u001b[1m0s\u001b[0m 300us/step - accuracy: 0.7351 - loss: nan\n",
      "Epoch 14/100\n",
      "\u001b[1m176/176\u001b[0m \u001b[32m━━━━━━━━━━━━━━━━━━━━\u001b[0m\u001b[37m\u001b[0m \u001b[1m0s\u001b[0m 294us/step - accuracy: 0.7312 - loss: nan\n",
      "Epoch 15/100\n",
      "\u001b[1m176/176\u001b[0m \u001b[32m━━━━━━━━━━━━━━━━━━━━\u001b[0m\u001b[37m\u001b[0m \u001b[1m0s\u001b[0m 296us/step - accuracy: 0.7389 - loss: nan\n",
      "Epoch 16/100\n",
      "\u001b[1m176/176\u001b[0m \u001b[32m━━━━━━━━━━━━━━━━━━━━\u001b[0m\u001b[37m\u001b[0m \u001b[1m0s\u001b[0m 292us/step - accuracy: 0.7353 - loss: nan\n",
      "Epoch 17/100\n",
      "\u001b[1m176/176\u001b[0m \u001b[32m━━━━━━━━━━━━━━━━━━━━\u001b[0m\u001b[37m\u001b[0m \u001b[1m0s\u001b[0m 496us/step - accuracy: 0.7341 - loss: nan\n",
      "Epoch 18/100\n",
      "\u001b[1m176/176\u001b[0m \u001b[32m━━━━━━━━━━━━━━━━━━━━\u001b[0m\u001b[37m\u001b[0m \u001b[1m0s\u001b[0m 294us/step - accuracy: 0.7409 - loss: nan\n",
      "Epoch 19/100\n",
      "\u001b[1m176/176\u001b[0m \u001b[32m━━━━━━━━━━━━━━━━━━━━\u001b[0m\u001b[37m\u001b[0m \u001b[1m0s\u001b[0m 299us/step - accuracy: 0.7400 - loss: nan\n",
      "Epoch 20/100\n",
      "\u001b[1m176/176\u001b[0m \u001b[32m━━━━━━━━━━━━━━━━━━━━\u001b[0m\u001b[37m\u001b[0m \u001b[1m0s\u001b[0m 295us/step - accuracy: 0.7409 - loss: nan\n",
      "Epoch 21/100\n",
      "\u001b[1m176/176\u001b[0m \u001b[32m━━━━━━━━━━━━━━━━━━━━\u001b[0m\u001b[37m\u001b[0m \u001b[1m0s\u001b[0m 296us/step - accuracy: 0.7414 - loss: nan\n",
      "Epoch 22/100\n",
      "\u001b[1m176/176\u001b[0m \u001b[32m━━━━━━━━━━━━━━━━━━━━\u001b[0m\u001b[37m\u001b[0m \u001b[1m0s\u001b[0m 300us/step - accuracy: 0.7477 - loss: nan\n",
      "Epoch 23/100\n",
      "\u001b[1m176/176\u001b[0m \u001b[32m━━━━━━━━━━━━━━━━━━━━\u001b[0m\u001b[37m\u001b[0m \u001b[1m0s\u001b[0m 295us/step - accuracy: 0.7326 - loss: nan\n",
      "Epoch 24/100\n",
      "\u001b[1m176/176\u001b[0m \u001b[32m━━━━━━━━━━━━━━━━━━━━\u001b[0m\u001b[37m\u001b[0m \u001b[1m0s\u001b[0m 307us/step - accuracy: 0.7436 - loss: nan\n",
      "Epoch 25/100\n",
      "\u001b[1m176/176\u001b[0m \u001b[32m━━━━━━━━━━━━━━━━━━━━\u001b[0m\u001b[37m\u001b[0m \u001b[1m0s\u001b[0m 300us/step - accuracy: 0.7525 - loss: nan\n",
      "Epoch 26/100\n",
      "\u001b[1m176/176\u001b[0m \u001b[32m━━━━━━━━━━━━━━━━━━━━\u001b[0m\u001b[37m\u001b[0m \u001b[1m0s\u001b[0m 303us/step - accuracy: 0.7332 - loss: nan\n",
      "Epoch 27/100\n",
      "\u001b[1m176/176\u001b[0m \u001b[32m━━━━━━━━━━━━━━━━━━━━\u001b[0m\u001b[37m\u001b[0m \u001b[1m0s\u001b[0m 301us/step - accuracy: 0.7508 - loss: nan\n",
      "Epoch 28/100\n",
      "\u001b[1m176/176\u001b[0m \u001b[32m━━━━━━━━━━━━━━━━━━━━\u001b[0m\u001b[37m\u001b[0m \u001b[1m0s\u001b[0m 300us/step - accuracy: 0.7498 - loss: nan\n",
      "Epoch 29/100\n",
      "\u001b[1m176/176\u001b[0m \u001b[32m━━━━━━━━━━━━━━━━━━━━\u001b[0m\u001b[37m\u001b[0m \u001b[1m0s\u001b[0m 308us/step - accuracy: 0.7386 - loss: nan\n",
      "Epoch 30/100\n",
      "\u001b[1m176/176\u001b[0m \u001b[32m━━━━━━━━━━━━━━━━━━━━\u001b[0m\u001b[37m\u001b[0m \u001b[1m0s\u001b[0m 354us/step - accuracy: 0.7349 - loss: nan\n",
      "Epoch 31/100\n",
      "\u001b[1m176/176\u001b[0m \u001b[32m━━━━━━━━━━━━━━━━━━━━\u001b[0m\u001b[37m\u001b[0m \u001b[1m0s\u001b[0m 314us/step - accuracy: 0.7319 - loss: nan\n",
      "Epoch 32/100\n",
      "\u001b[1m176/176\u001b[0m \u001b[32m━━━━━━━━━━━━━━━━━━━━\u001b[0m\u001b[37m\u001b[0m \u001b[1m0s\u001b[0m 297us/step - accuracy: 0.7349 - loss: nan\n",
      "Epoch 33/100\n",
      "\u001b[1m176/176\u001b[0m \u001b[32m━━━━━━━━━━━━━━━━━━━━\u001b[0m\u001b[37m\u001b[0m \u001b[1m0s\u001b[0m 301us/step - accuracy: 0.7491 - loss: nan\n",
      "Epoch 34/100\n",
      "\u001b[1m176/176\u001b[0m \u001b[32m━━━━━━━━━━━━━━━━━━━━\u001b[0m\u001b[37m\u001b[0m \u001b[1m0s\u001b[0m 295us/step - accuracy: 0.7397 - loss: nan\n",
      "Epoch 35/100\n",
      "\u001b[1m176/176\u001b[0m \u001b[32m━━━━━━━━━━━━━━━━━━━━\u001b[0m\u001b[37m\u001b[0m \u001b[1m0s\u001b[0m 303us/step - accuracy: 0.7440 - loss: nan\n",
      "Epoch 36/100\n",
      "\u001b[1m176/176\u001b[0m \u001b[32m━━━━━━━━━━━━━━━━━━━━\u001b[0m\u001b[37m\u001b[0m \u001b[1m0s\u001b[0m 298us/step - accuracy: 0.7390 - loss: nan\n",
      "Epoch 37/100\n",
      "\u001b[1m176/176\u001b[0m \u001b[32m━━━━━━━━━━━━━━━━━━━━\u001b[0m\u001b[37m\u001b[0m \u001b[1m0s\u001b[0m 298us/step - accuracy: 0.7438 - loss: nan\n",
      "Epoch 38/100\n",
      "\u001b[1m176/176\u001b[0m \u001b[32m━━━━━━━━━━━━━━━━━━━━\u001b[0m\u001b[37m\u001b[0m \u001b[1m0s\u001b[0m 299us/step - accuracy: 0.7472 - loss: nan\n",
      "Epoch 39/100\n",
      "\u001b[1m176/176\u001b[0m \u001b[32m━━━━━━━━━━━━━━━━━━━━\u001b[0m\u001b[37m\u001b[0m \u001b[1m0s\u001b[0m 300us/step - accuracy: 0.7404 - loss: nan\n",
      "Epoch 40/100\n",
      "\u001b[1m176/176\u001b[0m \u001b[32m━━━━━━━━━━━━━━━━━━━━\u001b[0m\u001b[37m\u001b[0m \u001b[1m0s\u001b[0m 323us/step - accuracy: 0.7399 - loss: nan\n",
      "Epoch 41/100\n",
      "\u001b[1m176/176\u001b[0m \u001b[32m━━━━━━━━━━━━━━━━━━━━\u001b[0m\u001b[37m\u001b[0m \u001b[1m0s\u001b[0m 314us/step - accuracy: 0.7389 - loss: nan\n",
      "Epoch 42/100\n",
      "\u001b[1m176/176\u001b[0m \u001b[32m━━━━━━━━━━━━━━━━━━━━\u001b[0m\u001b[37m\u001b[0m \u001b[1m0s\u001b[0m 535us/step - accuracy: 0.7366 - loss: nan\n",
      "Epoch 43/100\n",
      "\u001b[1m176/176\u001b[0m \u001b[32m━━━━━━━━━━━━━━━━━━━━\u001b[0m\u001b[37m\u001b[0m \u001b[1m0s\u001b[0m 326us/step - accuracy: 0.7425 - loss: nan\n",
      "Epoch 44/100\n",
      "\u001b[1m176/176\u001b[0m \u001b[32m━━━━━━━━━━━━━━━━━━━━\u001b[0m\u001b[37m\u001b[0m \u001b[1m0s\u001b[0m 356us/step - accuracy: 0.7356 - loss: nan\n",
      "Epoch 45/100\n",
      "\u001b[1m176/176\u001b[0m \u001b[32m━━━━━━━━━━━━━━━━━━━━\u001b[0m\u001b[37m\u001b[0m \u001b[1m0s\u001b[0m 316us/step - accuracy: 0.7356 - loss: nan\n",
      "Epoch 46/100\n",
      "\u001b[1m176/176\u001b[0m \u001b[32m━━━━━━━━━━━━━━━━━━━━\u001b[0m\u001b[37m\u001b[0m \u001b[1m0s\u001b[0m 328us/step - accuracy: 0.7317 - loss: nan\n",
      "Epoch 47/100\n",
      "\u001b[1m176/176\u001b[0m \u001b[32m━━━━━━━━━━━━━━━━━━━━\u001b[0m\u001b[37m\u001b[0m \u001b[1m0s\u001b[0m 298us/step - accuracy: 0.7350 - loss: nan\n",
      "Epoch 48/100\n",
      "\u001b[1m176/176\u001b[0m \u001b[32m━━━━━━━━━━━━━━━━━━━━\u001b[0m\u001b[37m\u001b[0m \u001b[1m0s\u001b[0m 305us/step - accuracy: 0.7344 - loss: nan\n",
      "Epoch 49/100\n",
      "\u001b[1m176/176\u001b[0m \u001b[32m━━━━━━━━━━━━━━━━━━━━\u001b[0m\u001b[37m\u001b[0m \u001b[1m0s\u001b[0m 292us/step - accuracy: 0.7347 - loss: nan\n",
      "Epoch 50/100\n",
      "\u001b[1m176/176\u001b[0m \u001b[32m━━━━━━━━━━━━━━━━━━━━\u001b[0m\u001b[37m\u001b[0m \u001b[1m0s\u001b[0m 295us/step - accuracy: 0.7480 - loss: nan\n",
      "Epoch 51/100\n",
      "\u001b[1m176/176\u001b[0m \u001b[32m━━━━━━━━━━━━━━━━━━━━\u001b[0m\u001b[37m\u001b[0m \u001b[1m0s\u001b[0m 302us/step - accuracy: 0.7410 - loss: nan\n",
      "Epoch 52/100\n",
      "\u001b[1m176/176\u001b[0m \u001b[32m━━━━━━━━━━━━━━━━━━━━\u001b[0m\u001b[37m\u001b[0m \u001b[1m0s\u001b[0m 299us/step - accuracy: 0.7537 - loss: nan\n",
      "Epoch 53/100\n",
      "\u001b[1m176/176\u001b[0m \u001b[32m━━━━━━━━━━━━━━━━━━━━\u001b[0m\u001b[37m\u001b[0m \u001b[1m0s\u001b[0m 294us/step - accuracy: 0.7446 - loss: nan\n",
      "Epoch 54/100\n",
      "\u001b[1m176/176\u001b[0m \u001b[32m━━━━━━━━━━━━━━━━━━━━\u001b[0m\u001b[37m\u001b[0m \u001b[1m0s\u001b[0m 300us/step - accuracy: 0.7434 - loss: nan\n",
      "Epoch 55/100\n",
      "\u001b[1m176/176\u001b[0m \u001b[32m━━━━━━━━━━━━━━━━━━━━\u001b[0m\u001b[37m\u001b[0m \u001b[1m0s\u001b[0m 297us/step - accuracy: 0.7446 - loss: nan\n",
      "Epoch 56/100\n",
      "\u001b[1m176/176\u001b[0m \u001b[32m━━━━━━━━━━━━━━━━━━━━\u001b[0m\u001b[37m\u001b[0m \u001b[1m0s\u001b[0m 292us/step - accuracy: 0.7340 - loss: nan\n",
      "Epoch 57/100\n",
      "\u001b[1m176/176\u001b[0m \u001b[32m━━━━━━━━━━━━━━━━━━━━\u001b[0m\u001b[37m\u001b[0m \u001b[1m0s\u001b[0m 313us/step - accuracy: 0.7416 - loss: nan\n",
      "Epoch 58/100\n",
      "\u001b[1m176/176\u001b[0m \u001b[32m━━━━━━━━━━━━━━━━━━━━\u001b[0m\u001b[37m\u001b[0m \u001b[1m0s\u001b[0m 301us/step - accuracy: 0.7334 - loss: nan\n",
      "Epoch 59/100\n",
      "\u001b[1m176/176\u001b[0m \u001b[32m━━━━━━━━━━━━━━━━━━━━\u001b[0m\u001b[37m\u001b[0m \u001b[1m0s\u001b[0m 291us/step - accuracy: 0.7350 - loss: nan\n",
      "Epoch 60/100\n",
      "\u001b[1m176/176\u001b[0m \u001b[32m━━━━━━━━━━━━━━━━━━━━\u001b[0m\u001b[37m\u001b[0m \u001b[1m0s\u001b[0m 299us/step - accuracy: 0.7325 - loss: nan\n",
      "Epoch 61/100\n",
      "\u001b[1m176/176\u001b[0m \u001b[32m━━━━━━━━━━━━━━━━━━━━\u001b[0m\u001b[37m\u001b[0m \u001b[1m0s\u001b[0m 300us/step - accuracy: 0.7453 - loss: nan\n",
      "Epoch 62/100\n",
      "\u001b[1m176/176\u001b[0m \u001b[32m━━━━━━━━━━━━━━━━━━━━\u001b[0m\u001b[37m\u001b[0m \u001b[1m0s\u001b[0m 295us/step - accuracy: 0.7373 - loss: nan\n",
      "Epoch 63/100\n",
      "\u001b[1m176/176\u001b[0m \u001b[32m━━━━━━━━━━━━━━━━━━━━\u001b[0m\u001b[37m\u001b[0m \u001b[1m0s\u001b[0m 293us/step - accuracy: 0.7372 - loss: nan\n",
      "Epoch 64/100\n",
      "\u001b[1m176/176\u001b[0m \u001b[32m━━━━━━━━━━━━━━━━━━━━\u001b[0m\u001b[37m\u001b[0m \u001b[1m0s\u001b[0m 303us/step - accuracy: 0.7334 - loss: nan\n",
      "Epoch 65/100\n",
      "\u001b[1m176/176\u001b[0m \u001b[32m━━━━━━━━━━━━━━━━━━━━\u001b[0m\u001b[37m\u001b[0m \u001b[1m0s\u001b[0m 295us/step - accuracy: 0.7458 - loss: nan\n",
      "Epoch 66/100\n",
      "\u001b[1m176/176\u001b[0m \u001b[32m━━━━━━━━━━━━━━━━━━━━\u001b[0m\u001b[37m\u001b[0m \u001b[1m0s\u001b[0m 296us/step - accuracy: 0.7424 - loss: nan\n",
      "Epoch 67/100\n",
      "\u001b[1m176/176\u001b[0m \u001b[32m━━━━━━━━━━━━━━━━━━━━\u001b[0m\u001b[37m\u001b[0m \u001b[1m0s\u001b[0m 305us/step - accuracy: 0.7342 - loss: nan\n",
      "Epoch 68/100\n",
      "\u001b[1m176/176\u001b[0m \u001b[32m━━━━━━━━━━━━━━━━━━━━\u001b[0m\u001b[37m\u001b[0m \u001b[1m0s\u001b[0m 301us/step - accuracy: 0.7353 - loss: nan\n",
      "Epoch 69/100\n",
      "\u001b[1m176/176\u001b[0m \u001b[32m━━━━━━━━━━━━━━━━━━━━\u001b[0m\u001b[37m\u001b[0m \u001b[1m0s\u001b[0m 287us/step - accuracy: 0.7336 - loss: nan\n",
      "Epoch 70/100\n",
      "\u001b[1m176/176\u001b[0m \u001b[32m━━━━━━━━━━━━━━━━━━━━\u001b[0m\u001b[37m\u001b[0m \u001b[1m0s\u001b[0m 302us/step - accuracy: 0.7420 - loss: nan\n",
      "Epoch 71/100\n",
      "\u001b[1m176/176\u001b[0m \u001b[32m━━━━━━━━━━━━━━━━━━━━\u001b[0m\u001b[37m\u001b[0m \u001b[1m0s\u001b[0m 299us/step - accuracy: 0.7330 - loss: nan\n",
      "Epoch 72/100\n",
      "\u001b[1m176/176\u001b[0m \u001b[32m━━━━━━━━━━━━━━━━━━━━\u001b[0m\u001b[37m\u001b[0m \u001b[1m0s\u001b[0m 296us/step - accuracy: 0.7412 - loss: nan\n",
      "Epoch 73/100\n",
      "\u001b[1m176/176\u001b[0m \u001b[32m━━━━━━━━━━━━━━━━━━━━\u001b[0m\u001b[37m\u001b[0m \u001b[1m0s\u001b[0m 302us/step - accuracy: 0.7325 - loss: nan\n",
      "Epoch 74/100\n",
      "\u001b[1m176/176\u001b[0m \u001b[32m━━━━━━━━━━━━━━━━━━━━\u001b[0m\u001b[37m\u001b[0m \u001b[1m0s\u001b[0m 535us/step - accuracy: 0.7398 - loss: nan\n",
      "Epoch 75/100\n",
      "\u001b[1m176/176\u001b[0m \u001b[32m━━━━━━━━━━━━━━━━━━━━\u001b[0m\u001b[37m\u001b[0m \u001b[1m0s\u001b[0m 304us/step - accuracy: 0.7328 - loss: nan\n",
      "Epoch 76/100\n",
      "\u001b[1m176/176\u001b[0m \u001b[32m━━━━━━━━━━━━━━━━━━━━\u001b[0m\u001b[37m\u001b[0m \u001b[1m0s\u001b[0m 302us/step - accuracy: 0.7445 - loss: nan\n",
      "Epoch 77/100\n",
      "\u001b[1m176/176\u001b[0m \u001b[32m━━━━━━━━━━━━━━━━━━━━\u001b[0m\u001b[37m\u001b[0m \u001b[1m0s\u001b[0m 292us/step - accuracy: 0.7369 - loss: nan\n",
      "Epoch 78/100\n",
      "\u001b[1m176/176\u001b[0m \u001b[32m━━━━━━━━━━━━━━━━━━━━\u001b[0m\u001b[37m\u001b[0m \u001b[1m0s\u001b[0m 296us/step - accuracy: 0.7368 - loss: nan\n",
      "Epoch 79/100\n",
      "\u001b[1m176/176\u001b[0m \u001b[32m━━━━━━━━━━━━━━━━━━━━\u001b[0m\u001b[37m\u001b[0m \u001b[1m0s\u001b[0m 300us/step - accuracy: 0.7422 - loss: nan\n",
      "Epoch 80/100\n",
      "\u001b[1m176/176\u001b[0m \u001b[32m━━━━━━━━━━━━━━━━━━━━\u001b[0m\u001b[37m\u001b[0m \u001b[1m0s\u001b[0m 287us/step - accuracy: 0.7407 - loss: nan\n",
      "Epoch 81/100\n",
      "\u001b[1m176/176\u001b[0m \u001b[32m━━━━━━━━━━━━━━━━━━━━\u001b[0m\u001b[37m\u001b[0m \u001b[1m0s\u001b[0m 297us/step - accuracy: 0.7565 - loss: nan\n",
      "Epoch 82/100\n",
      "\u001b[1m176/176\u001b[0m \u001b[32m━━━━━━━━━━━━━━━━━━━━\u001b[0m\u001b[37m\u001b[0m \u001b[1m0s\u001b[0m 300us/step - accuracy: 0.7363 - loss: nan\n",
      "Epoch 83/100\n",
      "\u001b[1m176/176\u001b[0m \u001b[32m━━━━━━━━━━━━━━━━━━━━\u001b[0m\u001b[37m\u001b[0m \u001b[1m0s\u001b[0m 295us/step - accuracy: 0.7481 - loss: nan\n",
      "Epoch 84/100\n",
      "\u001b[1m176/176\u001b[0m \u001b[32m━━━━━━━━━━━━━━━━━━━━\u001b[0m\u001b[37m\u001b[0m \u001b[1m0s\u001b[0m 296us/step - accuracy: 0.7351 - loss: nan\n",
      "Epoch 85/100\n",
      "\u001b[1m176/176\u001b[0m \u001b[32m━━━━━━━━━━━━━━━━━━━━\u001b[0m\u001b[37m\u001b[0m \u001b[1m0s\u001b[0m 299us/step - accuracy: 0.7389 - loss: nan\n",
      "Epoch 86/100\n",
      "\u001b[1m176/176\u001b[0m \u001b[32m━━━━━━━━━━━━━━━━━━━━\u001b[0m\u001b[37m\u001b[0m \u001b[1m0s\u001b[0m 292us/step - accuracy: 0.7401 - loss: nan\n",
      "Epoch 87/100\n",
      "\u001b[1m176/176\u001b[0m \u001b[32m━━━━━━━━━━━━━━━━━━━━\u001b[0m\u001b[37m\u001b[0m \u001b[1m0s\u001b[0m 295us/step - accuracy: 0.7393 - loss: nan\n",
      "Epoch 88/100\n",
      "\u001b[1m176/176\u001b[0m \u001b[32m━━━━━━━━━━━━━━━━━━━━\u001b[0m\u001b[37m\u001b[0m \u001b[1m0s\u001b[0m 300us/step - accuracy: 0.7404 - loss: nan\n",
      "Epoch 89/100\n",
      "\u001b[1m176/176\u001b[0m \u001b[32m━━━━━━━━━━━━━━━━━━━━\u001b[0m\u001b[37m\u001b[0m \u001b[1m0s\u001b[0m 293us/step - accuracy: 0.7428 - loss: nan\n",
      "Epoch 90/100\n",
      "\u001b[1m176/176\u001b[0m \u001b[32m━━━━━━━━━━━━━━━━━━━━\u001b[0m\u001b[37m\u001b[0m \u001b[1m0s\u001b[0m 294us/step - accuracy: 0.7412 - loss: nan\n",
      "Epoch 91/100\n",
      "\u001b[1m176/176\u001b[0m \u001b[32m━━━━━━━━━━━━━━━━━━━━\u001b[0m\u001b[37m\u001b[0m \u001b[1m0s\u001b[0m 299us/step - accuracy: 0.7298 - loss: nan\n",
      "Epoch 92/100\n",
      "\u001b[1m176/176\u001b[0m \u001b[32m━━━━━━━━━━━━━━━━━━━━\u001b[0m\u001b[37m\u001b[0m \u001b[1m0s\u001b[0m 298us/step - accuracy: 0.7419 - loss: nan\n",
      "Epoch 93/100\n",
      "\u001b[1m176/176\u001b[0m \u001b[32m━━━━━━━━━━━━━━━━━━━━\u001b[0m\u001b[37m\u001b[0m \u001b[1m0s\u001b[0m 298us/step - accuracy: 0.7362 - loss: nan\n",
      "Epoch 94/100\n",
      "\u001b[1m176/176\u001b[0m \u001b[32m━━━━━━━━━━━━━━━━━━━━\u001b[0m\u001b[37m\u001b[0m \u001b[1m0s\u001b[0m 301us/step - accuracy: 0.7476 - loss: nan\n",
      "Epoch 95/100\n",
      "\u001b[1m176/176\u001b[0m \u001b[32m━━━━━━━━━━━━━━━━━━━━\u001b[0m\u001b[37m\u001b[0m \u001b[1m0s\u001b[0m 299us/step - accuracy: 0.7437 - loss: nan\n",
      "Epoch 96/100\n",
      "\u001b[1m176/176\u001b[0m \u001b[32m━━━━━━━━━━━━━━━━━━━━\u001b[0m\u001b[37m\u001b[0m \u001b[1m0s\u001b[0m 293us/step - accuracy: 0.7457 - loss: nan\n",
      "Epoch 97/100\n",
      "\u001b[1m176/176\u001b[0m \u001b[32m━━━━━━━━━━━━━━━━━━━━\u001b[0m\u001b[37m\u001b[0m \u001b[1m0s\u001b[0m 295us/step - accuracy: 0.7393 - loss: nan\n",
      "Epoch 98/100\n",
      "\u001b[1m176/176\u001b[0m \u001b[32m━━━━━━━━━━━━━━━━━━━━\u001b[0m\u001b[37m\u001b[0m \u001b[1m0s\u001b[0m 298us/step - accuracy: 0.7347 - loss: nan\n",
      "Epoch 99/100\n",
      "\u001b[1m176/176\u001b[0m \u001b[32m━━━━━━━━━━━━━━━━━━━━\u001b[0m\u001b[37m\u001b[0m \u001b[1m0s\u001b[0m 295us/step - accuracy: 0.7424 - loss: nan\n",
      "Epoch 100/100\n",
      "\u001b[1m176/176\u001b[0m \u001b[32m━━━━━━━━━━━━━━━━━━━━\u001b[0m\u001b[37m\u001b[0m \u001b[1m0s\u001b[0m 295us/step - accuracy: 0.7322 - loss: nan\n"
     ]
    },
    {
     "data": {
      "text/plain": [
       "<keras.src.callbacks.history.History at 0x307ee3860>"
      ]
     },
     "execution_count": 157,
     "metadata": {},
     "output_type": "execute_result"
    }
   ],
   "source": [
    "model.compile(optimizer='adam',\n",
    "              loss='binary_crossentropy',\n",
    "              metrics=['accuracy'])\n",
    "\n",
    "model.fit(X_train, y_train, epochs=100)"
   ]
  },
  {
   "cell_type": "code",
   "execution_count": 160,
   "id": "e28f3128-ac51-463b-a77c-50f7b528a257",
   "metadata": {},
   "outputs": [
    {
     "name": "stdout",
     "output_type": "stream",
     "text": [
      "\u001b[1m44/44\u001b[0m \u001b[32m━━━━━━━━━━━━━━━━━━━━\u001b[0m\u001b[37m\u001b[0m \u001b[1m0s\u001b[0m 301us/step - accuracy: 0.7260 - loss: nan\n"
     ]
    },
    {
     "data": {
      "text/plain": [
       "[nan, 0.7100213170051575]"
      ]
     },
     "execution_count": 160,
     "metadata": {},
     "output_type": "execute_result"
    }
   ],
   "source": [
    "model.evaluate(X_test, y_test)"
   ]
  },
  {
   "cell_type": "code",
   "execution_count": 163,
   "id": "1490eea2-7dc1-470c-bfb7-d9451b683fd9",
   "metadata": {},
   "outputs": [],
   "source": [
    "from sklearn.metrics import confusion_matrix , classification_report"
   ]
  },
  {
   "cell_type": "code",
   "execution_count": 166,
   "id": "cf8e0861-47c5-42fa-961a-42d8a2b75754",
   "metadata": {},
   "outputs": [
    {
     "name": "stdout",
     "output_type": "stream",
     "text": [
      "\u001b[1m44/44\u001b[0m \u001b[32m━━━━━━━━━━━━━━━━━━━━\u001b[0m\u001b[37m\u001b[0m \u001b[1m0s\u001b[0m 578us/step\n"
     ]
    }
   ],
   "source": [
    "yp = model.predict(X_test)\n",
    "\n",
    "y_pred = []\n",
    "for element in yp:\n",
    "    if element > 0.5:\n",
    "        y_pred.append(1)\n",
    "    else:\n",
    "        y_pred.append(0)"
   ]
  },
  {
   "cell_type": "code",
   "execution_count": 169,
   "id": "6e36055d-015d-40fa-8807-203cff2c0e49",
   "metadata": {},
   "outputs": [
    {
     "name": "stdout",
     "output_type": "stream",
     "text": [
      "              precision    recall  f1-score   support\n",
      "\n",
      "           0       0.71      1.00      0.83       999\n",
      "           1       0.00      0.00      0.00       408\n",
      "\n",
      "    accuracy                           0.71      1407\n",
      "   macro avg       0.36      0.50      0.42      1407\n",
      "weighted avg       0.50      0.71      0.59      1407\n",
      "\n"
     ]
    }
   ],
   "source": [
    "print(classification_report(y_test,y_pred))"
   ]
  },
  {
   "cell_type": "code",
   "execution_count": 172,
   "id": "585fc82a-7132-4d0d-8bc5-9abe1212ee6d",
   "metadata": {},
   "outputs": [
    {
     "data": {
      "image/png": "[encoded data removed]",
      "text/plain": [
       "<Figure size 1000x600 with 2 Axes>"
      ]
     },
     "metadata": {},
     "output_type": "display_data"
    }
   ],
   "source": [
    "report = classification_report(y_test, y_pred, output_dict=True)\n",
    "rep = pd.DataFrame(report).transpose()\n",
    "\n",
    "# Create a heatmap of the classification report\n",
    "plt.figure(figsize=(10, 6))\n",
    "sns.heatmap(df.iloc[:-1, :4], annot=True, cmap='Blues')\n",
    "plt.title('Classification Report')\n",
    "plt.show()"
   ]
  },
  {
   "cell_type": "code",
   "execution_count": 182,
   "id": "938ab6ef-a9c9-4295-abab-fcc3d30467bd",
   "metadata": {},
   "outputs": [],
   "source": [
    "# Extract metrics for each class\n",
    "classes = [str(key) for key in range(len(report) - 3)]  # Extract class labels\n",
    "precision = [report[key]['precision'] for key in classes]\n",
    "recall = [report[key]['recall'] for key in classes]\n",
    "f1_score = [report[key]['f1-score'] for key in classes]"
   ]
  },
  {
   "cell_type": "code",
   "execution_count": 184,
   "id": "622872d5-0b49-4133-8db3-25be699c926d",
   "metadata": {},
   "outputs": [
    {
     "data": {
      "image/png": "[encoded data removed]",
      "text/plain": [
       "<Figure size 1200x600 with 1 Axes>"
      ]
     },
     "metadata": {},
     "output_type": "display_data"
    }
   ],
   "source": [
    "# Plotting the metrics using a bar chart\n",
    "plt.figure(figsize=(12, 6))\n",
    "barWidth = 0.25\n",
    "r1 = range(len(classes))\n",
    "r2 = [x + barWidth for x in r1]\n",
    "r3 = [x + barWidth for x in r2]\n",
    "\n",
    "plt.bar(r1, precision, color='#4b0082', width=barWidth, edgecolor='grey', label='Precision')\n",
    "plt.bar(r2, recall, color='#f0f8ff', width=barWidth, edgecolor='grey', label='Recall')\n",
    "plt.bar(r3, f1_score, color='#ff7f50', width=barWidth, edgecolor='grey', label='F1-score')\n",
    "\n",
    "plt.xlabel('Class', fontweight='bold')\n",
    "plt.xticks([r + barWidth for r in range(len(classes))], classes)\n",
    "plt.legend()\n",
    "plt.title(\"Classification Report Metrics\")\n",
    "plt.show()"
   ]
  },
  {
   "cell_type": "code",
   "execution_count": 187,
   "id": "d19d685e-f2b2-44c2-91a3-0cd274fe717c",
   "metadata": {},
   "outputs": [
    {
     "data": {
      "text/plain": [
       "Text(95.72222222222221, 0.5, 'Truth')"
      ]
     },
     "execution_count": 187,
     "metadata": {},
     "output_type": "execute_result"
    },
    {
     "data": {
      "image/png": "[encoded data removed]",
      "text/plain": [
       "<Figure size 1000x700 with 2 Axes>"
      ]
     },
     "metadata": {},
     "output_type": "display_data"
    }
   ],
   "source": [
    "cm = tf.math.confusion_matrix(labels=y_test,predictions=y_pred)\n",
    "\n",
    "plt.figure(figsize = (10,7))\n",
    "sns.heatmap(cm, annot=True, fmt='d')\n",
    "plt.xlabel('Predicted')\n",
    "plt.ylabel('Truth')"
   ]
  },
  {
   "cell_type": "code",
   "execution_count": null,
   "id": "e02cdee2-6983-4158-b06d-5c8cabfe8705",
   "metadata": {},
   "outputs": [],
   "source": []
  }
 ],
 "metadata": {
  "kernelspec": {
   "display_name": "Python 3 (ipykernel)",
   "language": "python",
   "name": "python3"
  },
  "language_info": {
   "codemirror_mode": {
    "name": "ipython",
    "version": 3
   },
   "file_extension": ".py",
   "mimetype": "text/x-python",
   "name": "python",
   "nbconvert_exporter": "python",
   "pygments_lexer": "ipython3",
   "version": "3.12.4"
  }
 },
 "nbformat": 4,
 "nbformat_minor": 5
}
